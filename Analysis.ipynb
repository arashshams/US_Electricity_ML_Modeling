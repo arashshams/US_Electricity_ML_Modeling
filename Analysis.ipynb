{
 "cells": [
  {
   "cell_type": "markdown",
   "id": "669adc2f",
   "metadata": {},
   "source": [
    "## A Machine Learning Model for Prediction of US Residential Electrical Energy Consumption"
   ]
  },
  {
   "cell_type": "markdown",
   "id": "7d6a20cb",
   "metadata": {},
   "source": [
    "### Author: Arash Shamseddini"
   ]
  },
  {
   "cell_type": "markdown",
   "id": "cbea3f4e",
   "metadata": {},
   "source": [
    "##### In this script I will be using ML techniques to model the electricity consumprion in US residential dwellings. The data is taken from the 2009 RESIDENTIAL ENERGY CONSUMPTION SURVEY (RECS) [here](https://www.eia.gov/consumption/residential/data/2009/index.php?view=microdata) and is also available in the data folder of this repository. In its 2009 version, data were collected from 12,083 households and represent 113.6 million US households. "
   ]
  },
  {
   "cell_type": "markdown",
   "id": "2bfbafb9",
   "metadata": {},
   "source": [
    "#### Let's get down to business 🚀"
   ]
  },
  {
   "cell_type": "markdown",
   "id": "a5fcdc0f",
   "metadata": {},
   "source": [
    "----------------------------------------------------------------------------"
   ]
  },
  {
   "cell_type": "code",
   "execution_count": 1,
   "id": "508f339b",
   "metadata": {},
   "outputs": [],
   "source": [
    "# Necessary Imports\n",
    "import numpy as np\n",
    "import pandas as pd\n",
    "import matplotlib.pyplot as plt\n",
    "from matplotlib.colors import LinearSegmentedColormap\n",
    "import seaborn as sns\n",
    "from pandas_profiling import ProfileReport\n",
    "from scipy import stats\n",
    "\n",
    "from sklearn.dummy import DummyRegressor\n",
    "from sklearn.linear_model import LinearRegression, Ridge, RidgeCV\n",
    "from sklearn.ensemble import GradientBoostingRegressor\n",
    "\n",
    "\n",
    "from sklearn.model_selection import (\n",
    "    GridSearchCV,\n",
    "    cross_val_score,\n",
    "    cross_validate,\n",
    "    train_test_split,\n",
    ")\n",
    "\n",
    "from sklearn.pipeline import Pipeline, make_pipeline\n",
    "from sklearn.compose import make_column_transformer\n",
    "from sklearn.preprocessing import OneHotEncoder, OrdinalEncoder, StandardScaler\n",
    "from sklearn.feature_selection import RFE, RFECV"
   ]
  },
  {
   "cell_type": "markdown",
   "id": "018f9cbf",
   "metadata": {},
   "source": [
    "### 1- The Data"
   ]
  },
  {
   "cell_type": "code",
   "execution_count": 2,
   "id": "c83e438f",
   "metadata": {},
   "outputs": [
    {
     "data": {
      "text/html": [
       "<div>\n",
       "<style scoped>\n",
       "    .dataframe tbody tr th:only-of-type {\n",
       "        vertical-align: middle;\n",
       "    }\n",
       "\n",
       "    .dataframe tbody tr th {\n",
       "        vertical-align: top;\n",
       "    }\n",
       "\n",
       "    .dataframe thead th {\n",
       "        text-align: right;\n",
       "    }\n",
       "</style>\n",
       "<table border=\"1\" class=\"dataframe\">\n",
       "  <thead>\n",
       "    <tr style=\"text-align: right;\">\n",
       "      <th></th>\n",
       "      <th>DOEID</th>\n",
       "      <th>REGIONC</th>\n",
       "      <th>DIVISION</th>\n",
       "      <th>REPORTABLE_DOMAIN</th>\n",
       "      <th>TYPEHUQ</th>\n",
       "      <th>NWEIGHT</th>\n",
       "      <th>HDD65</th>\n",
       "      <th>CDD65</th>\n",
       "      <th>HDD30YR</th>\n",
       "      <th>CDD30YR</th>\n",
       "      <th>...</th>\n",
       "      <th>SCALEKER</th>\n",
       "      <th>IECC_Climate_Pub</th>\n",
       "      <th>HDD50</th>\n",
       "      <th>CDD80</th>\n",
       "      <th>GND_HDD65</th>\n",
       "      <th>WSF</th>\n",
       "      <th>OA_LAT</th>\n",
       "      <th>GWT</th>\n",
       "      <th>DesignDBT99</th>\n",
       "      <th>DesignDBT1</th>\n",
       "    </tr>\n",
       "  </thead>\n",
       "  <tbody>\n",
       "    <tr>\n",
       "      <th>0</th>\n",
       "      <td>1</td>\n",
       "      <td>2</td>\n",
       "      <td>4</td>\n",
       "      <td>12</td>\n",
       "      <td>2</td>\n",
       "      <td>2471.68</td>\n",
       "      <td>4742</td>\n",
       "      <td>1080</td>\n",
       "      <td>4953</td>\n",
       "      <td>1271</td>\n",
       "      <td>...</td>\n",
       "      <td>-2</td>\n",
       "      <td>4A</td>\n",
       "      <td>2117</td>\n",
       "      <td>56</td>\n",
       "      <td>4250</td>\n",
       "      <td>0.48</td>\n",
       "      <td>6</td>\n",
       "      <td>56</td>\n",
       "      <td>9</td>\n",
       "      <td>96</td>\n",
       "    </tr>\n",
       "    <tr>\n",
       "      <th>1</th>\n",
       "      <td>2</td>\n",
       "      <td>4</td>\n",
       "      <td>10</td>\n",
       "      <td>26</td>\n",
       "      <td>2</td>\n",
       "      <td>8599.17</td>\n",
       "      <td>2662</td>\n",
       "      <td>199</td>\n",
       "      <td>2688</td>\n",
       "      <td>143</td>\n",
       "      <td>...</td>\n",
       "      <td>-2</td>\n",
       "      <td>3C</td>\n",
       "      <td>62</td>\n",
       "      <td>26</td>\n",
       "      <td>2393</td>\n",
       "      <td>0.61</td>\n",
       "      <td>0</td>\n",
       "      <td>64</td>\n",
       "      <td>38</td>\n",
       "      <td>73</td>\n",
       "    </tr>\n",
       "    <tr>\n",
       "      <th>2</th>\n",
       "      <td>3</td>\n",
       "      <td>1</td>\n",
       "      <td>1</td>\n",
       "      <td>1</td>\n",
       "      <td>5</td>\n",
       "      <td>8969.92</td>\n",
       "      <td>6233</td>\n",
       "      <td>505</td>\n",
       "      <td>5741</td>\n",
       "      <td>829</td>\n",
       "      <td>...</td>\n",
       "      <td>-2</td>\n",
       "      <td>5A</td>\n",
       "      <td>2346</td>\n",
       "      <td>49</td>\n",
       "      <td>5654</td>\n",
       "      <td>0.48</td>\n",
       "      <td>3</td>\n",
       "      <td>52</td>\n",
       "      <td>12</td>\n",
       "      <td>88</td>\n",
       "    </tr>\n",
       "    <tr>\n",
       "      <th>3</th>\n",
       "      <td>4</td>\n",
       "      <td>2</td>\n",
       "      <td>3</td>\n",
       "      <td>7</td>\n",
       "      <td>2</td>\n",
       "      <td>18003.64</td>\n",
       "      <td>6034</td>\n",
       "      <td>672</td>\n",
       "      <td>5781</td>\n",
       "      <td>868</td>\n",
       "      <td>...</td>\n",
       "      <td>-2</td>\n",
       "      <td>5A</td>\n",
       "      <td>2746</td>\n",
       "      <td>0</td>\n",
       "      <td>4941</td>\n",
       "      <td>0.55</td>\n",
       "      <td>4</td>\n",
       "      <td>55</td>\n",
       "      <td>7</td>\n",
       "      <td>87</td>\n",
       "    </tr>\n",
       "    <tr>\n",
       "      <th>4</th>\n",
       "      <td>5</td>\n",
       "      <td>1</td>\n",
       "      <td>1</td>\n",
       "      <td>1</td>\n",
       "      <td>3</td>\n",
       "      <td>5999.61</td>\n",
       "      <td>5388</td>\n",
       "      <td>702</td>\n",
       "      <td>5313</td>\n",
       "      <td>797</td>\n",
       "      <td>...</td>\n",
       "      <td>-2</td>\n",
       "      <td>5A</td>\n",
       "      <td>2251</td>\n",
       "      <td>0</td>\n",
       "      <td>5426</td>\n",
       "      <td>0.61</td>\n",
       "      <td>4</td>\n",
       "      <td>50</td>\n",
       "      <td>13</td>\n",
       "      <td>90</td>\n",
       "    </tr>\n",
       "    <tr>\n",
       "      <th>...</th>\n",
       "      <td>...</td>\n",
       "      <td>...</td>\n",
       "      <td>...</td>\n",
       "      <td>...</td>\n",
       "      <td>...</td>\n",
       "      <td>...</td>\n",
       "      <td>...</td>\n",
       "      <td>...</td>\n",
       "      <td>...</td>\n",
       "      <td>...</td>\n",
       "      <td>...</td>\n",
       "      <td>...</td>\n",
       "      <td>...</td>\n",
       "      <td>...</td>\n",
       "      <td>...</td>\n",
       "      <td>...</td>\n",
       "      <td>...</td>\n",
       "      <td>...</td>\n",
       "      <td>...</td>\n",
       "      <td>...</td>\n",
       "      <td>...</td>\n",
       "    </tr>\n",
       "    <tr>\n",
       "      <th>12078</th>\n",
       "      <td>12079</td>\n",
       "      <td>2</td>\n",
       "      <td>3</td>\n",
       "      <td>9</td>\n",
       "      <td>2</td>\n",
       "      <td>10219.80</td>\n",
       "      <td>7671</td>\n",
       "      <td>332</td>\n",
       "      <td>7784</td>\n",
       "      <td>451</td>\n",
       "      <td>...</td>\n",
       "      <td>-2</td>\n",
       "      <td>6A-6B</td>\n",
       "      <td>4289</td>\n",
       "      <td>39</td>\n",
       "      <td>7819</td>\n",
       "      <td>0.59</td>\n",
       "      <td>0</td>\n",
       "      <td>48</td>\n",
       "      <td>-3</td>\n",
       "      <td>84</td>\n",
       "    </tr>\n",
       "    <tr>\n",
       "      <th>12079</th>\n",
       "      <td>12080</td>\n",
       "      <td>3</td>\n",
       "      <td>7</td>\n",
       "      <td>21</td>\n",
       "      <td>4</td>\n",
       "      <td>8689.07</td>\n",
       "      <td>2085</td>\n",
       "      <td>2844</td>\n",
       "      <td>2520</td>\n",
       "      <td>2286</td>\n",
       "      <td>...</td>\n",
       "      <td>-2</td>\n",
       "      <td>3B-4B</td>\n",
       "      <td>360</td>\n",
       "      <td>393</td>\n",
       "      <td>1869</td>\n",
       "      <td>0.50</td>\n",
       "      <td>0</td>\n",
       "      <td>56</td>\n",
       "      <td>26</td>\n",
       "      <td>101</td>\n",
       "    </tr>\n",
       "    <tr>\n",
       "      <th>12080</th>\n",
       "      <td>12081</td>\n",
       "      <td>2</td>\n",
       "      <td>4</td>\n",
       "      <td>10</td>\n",
       "      <td>2</td>\n",
       "      <td>4697.21</td>\n",
       "      <td>7935</td>\n",
       "      <td>472</td>\n",
       "      <td>8074</td>\n",
       "      <td>600</td>\n",
       "      <td>...</td>\n",
       "      <td>-2</td>\n",
       "      <td>6A-6B</td>\n",
       "      <td>4494</td>\n",
       "      <td>22</td>\n",
       "      <td>8477</td>\n",
       "      <td>0.58</td>\n",
       "      <td>1</td>\n",
       "      <td>46</td>\n",
       "      <td>-9</td>\n",
       "      <td>89</td>\n",
       "    </tr>\n",
       "    <tr>\n",
       "      <th>12081</th>\n",
       "      <td>12082</td>\n",
       "      <td>4</td>\n",
       "      <td>8</td>\n",
       "      <td>23</td>\n",
       "      <td>2</td>\n",
       "      <td>13155.68</td>\n",
       "      <td>5834</td>\n",
       "      <td>770</td>\n",
       "      <td>5989</td>\n",
       "      <td>957</td>\n",
       "      <td>...</td>\n",
       "      <td>-2</td>\n",
       "      <td>5B-5C</td>\n",
       "      <td>2840</td>\n",
       "      <td>0</td>\n",
       "      <td>9010</td>\n",
       "      <td>0.54</td>\n",
       "      <td>1</td>\n",
       "      <td>53</td>\n",
       "      <td>13</td>\n",
       "      <td>93</td>\n",
       "    </tr>\n",
       "    <tr>\n",
       "      <th>12082</th>\n",
       "      <td>12083</td>\n",
       "      <td>4</td>\n",
       "      <td>10</td>\n",
       "      <td>26</td>\n",
       "      <td>2</td>\n",
       "      <td>7703.43</td>\n",
       "      <td>2806</td>\n",
       "      <td>124</td>\n",
       "      <td>2859</td>\n",
       "      <td>139</td>\n",
       "      <td>...</td>\n",
       "      <td>-2</td>\n",
       "      <td>3C</td>\n",
       "      <td>92</td>\n",
       "      <td>0</td>\n",
       "      <td>3048</td>\n",
       "      <td>0.53</td>\n",
       "      <td>0</td>\n",
       "      <td>60</td>\n",
       "      <td>44</td>\n",
       "      <td>75</td>\n",
       "    </tr>\n",
       "  </tbody>\n",
       "</table>\n",
       "<p>12083 rows × 940 columns</p>\n",
       "</div>"
      ],
      "text/plain": [
       "       DOEID  REGIONC  DIVISION  REPORTABLE_DOMAIN  TYPEHUQ   NWEIGHT  HDD65  \\\n",
       "0          1        2         4                 12        2   2471.68   4742   \n",
       "1          2        4        10                 26        2   8599.17   2662   \n",
       "2          3        1         1                  1        5   8969.92   6233   \n",
       "3          4        2         3                  7        2  18003.64   6034   \n",
       "4          5        1         1                  1        3   5999.61   5388   \n",
       "...      ...      ...       ...                ...      ...       ...    ...   \n",
       "12078  12079        2         3                  9        2  10219.80   7671   \n",
       "12079  12080        3         7                 21        4   8689.07   2085   \n",
       "12080  12081        2         4                 10        2   4697.21   7935   \n",
       "12081  12082        4         8                 23        2  13155.68   5834   \n",
       "12082  12083        4        10                 26        2   7703.43   2806   \n",
       "\n",
       "       CDD65  HDD30YR  CDD30YR  ...  SCALEKER  IECC_Climate_Pub HDD50 CDD80  \\\n",
       "0       1080     4953     1271  ...        -2                4A  2117    56   \n",
       "1        199     2688      143  ...        -2                3C    62    26   \n",
       "2        505     5741      829  ...        -2                5A  2346    49   \n",
       "3        672     5781      868  ...        -2                5A  2746     0   \n",
       "4        702     5313      797  ...        -2                5A  2251     0   \n",
       "...      ...      ...      ...  ...       ...               ...   ...   ...   \n",
       "12078    332     7784      451  ...        -2             6A-6B  4289    39   \n",
       "12079   2844     2520     2286  ...        -2             3B-4B   360   393   \n",
       "12080    472     8074      600  ...        -2             6A-6B  4494    22   \n",
       "12081    770     5989      957  ...        -2             5B-5C  2840     0   \n",
       "12082    124     2859      139  ...        -2                3C    92     0   \n",
       "\n",
       "       GND_HDD65   WSF  OA_LAT  GWT  DesignDBT99  DesignDBT1  \n",
       "0           4250  0.48       6   56            9          96  \n",
       "1           2393  0.61       0   64           38          73  \n",
       "2           5654  0.48       3   52           12          88  \n",
       "3           4941  0.55       4   55            7          87  \n",
       "4           5426  0.61       4   50           13          90  \n",
       "...          ...   ...     ...  ...          ...         ...  \n",
       "12078       7819  0.59       0   48           -3          84  \n",
       "12079       1869  0.50       0   56           26         101  \n",
       "12080       8477  0.58       1   46           -9          89  \n",
       "12081       9010  0.54       1   53           13          93  \n",
       "12082       3048  0.53       0   60           44          75  \n",
       "\n",
       "[12083 rows x 940 columns]"
      ]
     },
     "execution_count": 2,
     "metadata": {},
     "output_type": "execute_result"
    }
   ],
   "source": [
    "# Reading the data in (Make sure the data set is sitting in the same directory as this notebook)\n",
    "df = pd.read_csv(\"data/recs2009_public.csv\", low_memory=False) # dtype not detected for col. 717 (\"NOCRCASH\") & col. 718 (\"NKRGALNC\") so set\n",
    "                                                               # low_memory=False to avoid mixed type as suggested by Pandas\n",
    "\n",
    "original_df = df.copy() # A copy for later use\n",
    "\n",
    "df"
   ]
  },
  {
   "cell_type": "markdown",
   "id": "6bd2c376",
   "metadata": {},
   "source": [
    "##### WOW! 940 columns\n",
    "##### and 12083 observations."
   ]
  },
  {
   "cell_type": "markdown",
   "id": "f3d4a88b",
   "metadata": {},
   "source": [
    "This data set (`2009 RECS Survey Data`) is the 2009 version of a series of data sets from the archive of RESIDENTIAL ENERGY CONSUMPTION SURVEY (RECS)."
   ]
  },
  {
   "cell_type": "markdown",
   "id": "71acedf0",
   "metadata": {},
   "source": [
    "An overview of the data set from the US Energy Information Adminstration website can be found [here](https://www.eia.gov/consumption/residential/data/2009/index.php?view=microdata)."
   ]
  },
  {
   "cell_type": "markdown",
   "id": "dd4d3ff5",
   "metadata": {},
   "source": [
    "The response variable in this data set is the \"Total Site Electricity Usage\" designated as `\"KWH\"` (Kilowatt-hours)."
   ]
  },
  {
   "cell_type": "markdown",
   "id": "636fd310",
   "metadata": {},
   "source": [
    "Let's take a look at the distribution of `\"KWH\"`."
   ]
  },
  {
   "cell_type": "code",
   "execution_count": 3,
   "id": "3989ff8a",
   "metadata": {},
   "outputs": [
    {
     "data": {
      "text/plain": [
       "<AxesSubplot:>"
      ]
     },
     "execution_count": 3,
     "metadata": {},
     "output_type": "execute_result"
    },
    {
     "data": {
      "image/png": "[encoded data removed]",
      "text/plain": [
       "<Figure size 432x288 with 1 Axes>"
      ]
     },
     "metadata": {
      "needs_background": "light"
     },
     "output_type": "display_data"
    }
   ],
   "source": [
    "# Histogram for the distribution of KWH as the response\n",
    "target = \"KWH\"\n",
    "df[target].hist(bins=10)"
   ]
  },
  {
   "cell_type": "markdown",
   "id": "8c25fd3c",
   "metadata": {},
   "source": [
    "We can see that the response is pretty much right-skewd and the values are mostly concentrated in the `< 20000 KWH` range."
   ]
  },
  {
   "cell_type": "markdown",
   "id": "507b12eb",
   "metadata": {},
   "source": [
    "### 2- EDA"
   ]
  },
  {
   "cell_type": "markdown",
   "id": "73263265",
   "metadata": {},
   "source": [
    "Let's check Pandas profiling report to get some insights from the data and most importantly the distribution of variables."
   ]
  },
  {
   "cell_type": "code",
   "execution_count": 4,
   "id": "047a332a",
   "metadata": {},
   "outputs": [],
   "source": [
    "# Calling a short version of Pandas profiling report. This is mainly to see the distribution of predictors and the response (\"KWH\").\n",
    "#profile = ProfileReport(df,minimal=True)\n",
    "#profile"
   ]
  },
  {
   "cell_type": "markdown",
   "id": "d67e34ad",
   "metadata": {},
   "source": [
    "According to the Pandas profiling report some columns have just a few unique values. Let's check the number of unique  values in the columns of the data set."
   ]
  },
  {
   "cell_type": "code",
   "execution_count": 5,
   "id": "cebdf0ea",
   "metadata": {},
   "outputs": [
    {
     "data": {
      "text/html": [
       "<div>\n",
       "<style scoped>\n",
       "    .dataframe tbody tr th:only-of-type {\n",
       "        vertical-align: middle;\n",
       "    }\n",
       "\n",
       "    .dataframe tbody tr th {\n",
       "        vertical-align: top;\n",
       "    }\n",
       "\n",
       "    .dataframe thead th {\n",
       "        text-align: right;\n",
       "    }\n",
       "</style>\n",
       "<table border=\"1\" class=\"dataframe\">\n",
       "  <thead>\n",
       "    <tr style=\"text-align: right;\">\n",
       "      <th></th>\n",
       "      <th>unique_values</th>\n",
       "    </tr>\n",
       "  </thead>\n",
       "  <tbody>\n",
       "    <tr>\n",
       "      <th>SCALEKER</th>\n",
       "      <td>3</td>\n",
       "    </tr>\n",
       "    <tr>\n",
       "      <th>IECC_Climate_Pub</th>\n",
       "      <td>11</td>\n",
       "    </tr>\n",
       "    <tr>\n",
       "      <th>HDD50</th>\n",
       "      <td>4004</td>\n",
       "    </tr>\n",
       "    <tr>\n",
       "      <th>CDD80</th>\n",
       "      <td>1026</td>\n",
       "    </tr>\n",
       "    <tr>\n",
       "      <th>GND_HDD65</th>\n",
       "      <td>6152</td>\n",
       "    </tr>\n",
       "    <tr>\n",
       "      <th>WSF</th>\n",
       "      <td>50</td>\n",
       "    </tr>\n",
       "    <tr>\n",
       "      <th>OA_LAT</th>\n",
       "      <td>35</td>\n",
       "    </tr>\n",
       "    <tr>\n",
       "      <th>GWT</th>\n",
       "      <td>53</td>\n",
       "    </tr>\n",
       "    <tr>\n",
       "      <th>DesignDBT99</th>\n",
       "      <td>90</td>\n",
       "    </tr>\n",
       "    <tr>\n",
       "      <th>DesignDBT1</th>\n",
       "      <td>53</td>\n",
       "    </tr>\n",
       "  </tbody>\n",
       "</table>\n",
       "</div>"
      ],
      "text/plain": [
       "                  unique_values\n",
       "SCALEKER                      3\n",
       "IECC_Climate_Pub             11\n",
       "HDD50                      4004\n",
       "CDD80                      1026\n",
       "GND_HDD65                  6152\n",
       "WSF                          50\n",
       "OA_LAT                       35\n",
       "GWT                          53\n",
       "DesignDBT99                  90\n",
       "DesignDBT1                   53"
      ]
     },
     "execution_count": 5,
     "metadata": {},
     "output_type": "execute_result"
    }
   ],
   "source": [
    "# Number of unique values in each column of the data set\n",
    "unique_vals = pd.DataFrame(data=df.nunique(),  columns=[\"unique_values\"])\n",
    "unique_vals.tail(10)"
   ]
  },
  {
   "cell_type": "markdown",
   "id": "546b1714",
   "metadata": {},
   "source": [
    "As an example, let's check `\"SCALEKER\"`, which shows: `Whether annualized kerosene consumption from Energy Supplier Survey billing data was scaled down`."
   ]
  },
  {
   "cell_type": "code",
   "execution_count": 6,
   "id": "ce783432",
   "metadata": {},
   "outputs": [
    {
     "data": {
      "text/plain": [
       "array([-2,  3,  0], dtype=int64)"
      ]
     },
     "execution_count": 6,
     "metadata": {},
     "output_type": "execute_result"
    }
   ],
   "source": [
    "df[\"SCALEKER\"].unique()"
   ]
  },
  {
   "cell_type": "markdown",
   "id": "4e20a94f",
   "metadata": {},
   "source": [
    "Let's see if there is any NaN values in the data set."
   ]
  },
  {
   "cell_type": "code",
   "execution_count": 7,
   "id": "b1bf95ec",
   "metadata": {},
   "outputs": [
    {
     "name": "stdout",
     "output_type": "stream",
     "text": [
      " \n",
      "Count total NaN in a DataFrame :  0\n"
     ]
    }
   ],
   "source": [
    "# Count total NaN in a DataFrame\n",
    "print(\" \\nCount total NaN in a DataFrame : \", df.isnull().sum().sum())"
   ]
  },
  {
   "cell_type": "markdown",
   "id": "2c2513ca",
   "metadata": {},
   "source": [
    "Let's check the `dtype` of the columns in the data set and the list of columns in each `dtype`."
   ]
  },
  {
   "cell_type": "code",
   "execution_count": 8,
   "id": "d246c44e",
   "metadata": {},
   "outputs": [
    {
     "name": "stdout",
     "output_type": "stream",
     "text": [
      " \n",
      "Dtype of columns in the DataFrame :  [dtype('int64') dtype('float64') dtype('O')]\n",
      " \n",
      "Columns with dtype:'int64' :  ['DOEID', 'REGIONC', 'DIVISION', 'REPORTABLE_DOMAIN', 'TYPEHUQ', 'HDD65', 'CDD65', 'HDD30YR', 'CDD30YR', 'Climate_Region_Pub', 'AIA_Zone', 'KOWNRENT', 'CONDCOOP', 'YEARMADE', 'YEARMADERANGE', 'OCCUPYYRANGE', 'CONVERSION', 'ORIG1FAM', 'LOOKLIKE', 'NUMFLRS', 'NUMAPTS', 'WALLTYPE', 'ROOFTYPE', 'STUDIO', 'NAPTFLRS', 'STORIES', 'TYPEHUQ4', 'BEDROOMS', 'NCOMBATH', 'NHAFBATH', 'OTHROOMS', 'TOTROOMS', 'CELLAR', 'CRAWL', 'CONCRETE', 'BASEFIN', 'FINBASERMS', 'BASEHEAT', 'BASEHT2', 'PCTBSTHT', 'BASECOOL', 'BASECL2', 'PCTBSTCL', 'BASEUSE', 'ATTIC', 'ATTICFIN', 'FINATTRMS', 'ATTCHEAT', 'ATTCHT2', 'PCTATTHT', 'ATTCCOOL', 'ATTCCL2', 'PCTATTCL', 'ATTICUSE', 'PRKGPLC1', 'SIZEOFGARAGE', 'GARGLOC', 'GARGHEAT', 'GARGCOOL', 'PRKGPLC2', 'SIZEOFDETACH', 'OUTLET', 'ZKOWNRENT', 'ZCONDCOOP', 'ZYEARMADE', 'ZYEARMADERANGE', 'ZOCCUPYYRANGE', 'ZCONVERSION', 'ZORIG1FAM', 'ZLOOKLIKE', 'ZNUMFLRS', 'ZNUMAPTS', 'ZWALLTYPE', 'ZROOFTYPE', 'ZSTUDIO', 'ZNAPTFLRS', 'ZSTORIES', 'ZTYPEHUQ4', 'ZBEDROOMS', 'ZNCOMBATH', 'ZNHAFBATH', 'ZOTHROOMS', 'ZCELLAR', 'ZCRAWL', 'ZCONCRETE', 'ZBASEFIN', 'ZFINBASERMS', 'ZBASEHEAT', 'ZBASEHT2', 'ZPCTBSTHT', 'ZBASECOOL', 'ZBASECL2', 'ZPCTBSTCL', 'ZBASEUSE', 'ZATTIC', 'ZATTICFIN', 'ZFINATTRMS', 'ZATTCHEAT', 'ZATTCHT2', 'ZPCTATTHT', 'ZATTCCOOL', 'ZPCTATTCL', 'ZATTCCL2', 'ZATTICUSE', 'ZPRKGPLC1', 'ZSIZEOFGARAGE', 'ZGARGLOC', 'ZGARGHEAT', 'ZGARGCOOL', 'ZPRKGPLC2', 'ZSIZEOFDETACH', 'STOVEN', 'STOVENFUEL', 'STOVE', 'STOVEFUEL', 'OVEN', 'OVENFUEL', 'OVENUSE', 'OVENCLN', 'TYPECLN', 'MICRO', 'AMTMICRO', 'DEFROST', 'OUTGRILL', 'OUTGRILLFUEL', 'TOPGRILL', 'STGRILA', 'TOASTER', 'NUMMEAL', 'FUELFOOD', 'COFFEE', 'NUMFRIG', 'TYPERFR1', 'SIZRFRI1', 'REFRIGT1', 'ICE', 'AGERFRI1', 'ESFRIG', 'REPLCFRI', 'HELPFRI', 'HELPFRIY', 'TYPERFR2', 'SIZRFRI2', 'REFRIGT2', 'MONRFRI2', 'AGERFRI2', 'ESFRIG2', 'TYPERFR3', 'SIZRFRI3', 'REFRIGT3', 'MONRFRI3', 'AGERFRI3', 'ESFRIG3', 'SEPFREEZ', 'NUMFREEZ', 'UPRTFRZR', 'SIZFREEZ', 'FREEZER', 'AGEFRZR', 'REPLCFRZ', 'HELPFRZ', 'HELPFRZY', 'UPRTFRZR2', 'SIZFREEZ2', 'FREEZER2', 'AGEFRZR2', 'DISHWASH', 'DWASHUSE', 'AGEDW', 'ESDISHW', 'REPLCDW', 'HELPDW', 'HELPDWY', 'ZSTOVEN', 'ZSTOVENFUEL', 'ZSTOVE', 'ZSTOVEFUEL', 'ZOVEN', 'ZOVENFUEL', 'ZOVENUSE', 'ZOVENCLN', 'ZTYPECLN', 'ZMICRO', 'ZAMTMICRO', 'ZDEFROST', 'ZOUTGRILL', 'ZOUTGRILLFUEL', 'ZTOPGRILL', 'ZSTGRILA', 'ZTOASTER', 'ZNUMMEAL', 'ZFUELFOOD', 'ZCOFFEE', 'ZNUMFRIG', 'ZTYPERFR1', 'ZSIZRFRI1', 'ZREFRIGT1', 'ZICE', 'ZAGERFRI1', 'ZTYPERFR2', 'ZSIZRFRI2', 'ZREFRIGT2', 'ZMONRFRI2', 'ZAGERFRI2', 'ZTYPERFR3', 'ZSIZRFRI3', 'ZREFRIGT3', 'ZMONRFRI3', 'ZAGERFRI3', 'ZSEPFREEZ', 'ZNUMFREEZ', 'ZUPRTFRZR', 'ZSIZFREEZ', 'ZFREEZER', 'ZAGEFRZR', 'ZUPRTFRZR2', 'ZSIZFREEZ2', 'ZFREEZER2', 'ZAGEFRZR2', 'ZDISHWASH', 'ZDWASHUSE', 'ZAGEDW', 'CWASHER', 'TOPFRONT', 'WASHLOAD', 'WASHTEMP', 'RNSETEMP', 'AGECWASH', 'ESCWASH', 'REPLCCW', 'HELPCW', 'HELPCWY', 'DRYER', 'DRYRFUEL', 'DRYRUSE', 'AGECDRYER', 'TVCOLOR', 'TVSIZE1', 'TVTYPE1', 'CABLESAT1', 'COMBODVR1', 'DVR1', 'DIGITSTB1', 'PLAYSTA1', 'COMBOVCRDVD1', 'VCR1', 'DVD1', 'TVAUDIOSYS1', 'OTHERSTB1', 'TVONWD1', 'TVONWDWATCH1', 'TVONWE1', 'TVONWEWATCH1', 'TVSIZE2', 'TVTYPE2', 'CABLESAT2', 'COMBODVR2', 'DVR2', 'DIGITSTB2', 'PLAYSTA2', 'COMBOVCRDVD2', 'VCR2', 'DVD2', 'TVAUDIOSYS2', 'OTHERSTB2', 'TVONWD2', 'TVONWDWATCH2', 'TVONWE2', 'TVONWEWATCH2', 'TVSIZE3', 'TVTYPE3', 'CABLESAT3', 'COMBODVR3', 'DVR3', 'DIGITSTB3', 'PLAYSTA3', 'COMBOVCRDVD3', 'VCR3', 'DVD3', 'TVAUDIOSYS3', 'OTHERSTB3', 'TVONWD3', 'TVONWDWATCH3', 'TVONWE3', 'TVONWEWATCH3', 'COMPUTER', 'NUMPC', 'PCTYPE1', 'MONITOR1', 'TIMEON1', 'PCONOFF1', 'PCSLEEP1', 'PCTYPE2', 'MONITOR2', 'TIMEON2', 'PCONOFF2', 'PCSLEEP2', 'PCTYPE3', 'MONITOR3', 'TIMEON3', 'PCONOFF3', 'PCSLEEP3', 'INTERNET', 'INDIALUP', 'INDSL', 'INCABLE', 'INSATEL', 'INWIRELESS', 'PCPRINT', 'FAX', 'COPIER', 'WELLPUMP', 'DIPSTICK', 'SWAMPCOL', 'AQUARIUM', 'STEREO', 'NOCORD', 'ANSMACH', 'BATTOOLS', 'BATCHRG', 'CHRGPLGT', 'ELECDEV', 'ELECCHRG', 'CHRGPLGE', 'ZCWASHER', 'ZTOPFRONT', 'ZWASHLOAD', 'ZWASHTEMP', 'ZRNSETEMP', 'ZAGECWASH', 'ZDRYER', 'ZDRYRFUEL', 'ZDRYRUSE', 'ZAGECDRYER', 'ZTVCOLOR', 'ZTVSIZE1', 'ZTVTYPE1', 'ZCABLESAT1', 'ZCOMBODVR1', 'ZDVR1', 'ZDIGITSTB1', 'ZPLAYSTA1', 'ZCOMBOVCRDVD1', 'ZVCR1', 'ZDVD1', 'ZTVAUDIOSYS1', 'ZOTHERSTB1', 'ZTVONWD1', 'ZTVONWDWATCH1', 'ZTVONWE1', 'ZTVONWEWATCH1', 'ZTVSIZE2', 'ZTVTYPE2', 'ZCABLESAT2', 'ZCOMBODVR2', 'ZDVR2', 'ZDIGITSTB2', 'ZPLAYSTA2', 'ZCOMBOVCRDVD2', 'ZVCR2', 'ZDVD2', 'ZTVAUDIOSYS2', 'ZOTHERSTB2', 'ZTVONWD2', 'ZTVONWDWATCH2', 'ZTVONWE2', 'ZTVONWEWATCH2', 'ZTVSIZE3', 'ZTVTYPE3', 'ZCABLESAT3', 'ZCOMBODVR3', 'ZDVR3', 'ZDIGITSTB3', 'ZPLAYSTA3', 'ZCOMBOVCRDVD3', 'ZVCR3', 'ZDVD3', 'ZTVAUDIOSYS3', 'ZOTHERSTB3', 'ZTVONWD3', 'ZTVONWDWATCH3', 'ZTVONWE3', 'ZTVONWEWATCH3', 'ZCOMPUTER', 'ZNUMPC', 'ZPCTYPE1', 'ZMONITOR1', 'ZTIMEON1', 'ZPCONOFF1', 'ZPCSLEEP1', 'ZPCTYPE2', 'ZMONITOR2', 'ZTIMEON2', 'ZPCONOFF2', 'ZPCSLEEP2', 'ZPCTYPE3', 'ZMONITOR3', 'ZTIMEON3', 'ZPCONOFF3', 'ZPCSLEEP3', 'ZINTERNET', 'ZINDIALUP', 'ZINDSL', 'ZINCABLE', 'ZINSATEL', 'ZINWIRELESS', 'ZPCPRINT', 'ZFAX', 'ZCOPIER', 'ZWELLPUMP', 'ZDIPSTICK', 'ZSWAMPCOL', 'ZAQUARIUM', 'ZSTEREO', 'ZNOCORD', 'ZANSMACH', 'ZBATTOOLS', 'ZBATCHRG', 'ZCHRGPLGT', 'ZELECDEV', 'ZELECCHRG', 'ZCHRGPLGE', 'HEATHOME', 'DNTHEAT', 'EQUIPNOHEAT', 'FUELNOHEAT', 'EQUIPM', 'FUELHEAT', 'MAINTHT', 'EQUIPAGE', 'REPLCHT', 'HELPHT', 'HELPHTY', 'HEATOTH', 'EQUIPAUX', 'REVERSE', 'WARMAIR', 'FURNFUEL', 'STEAMR', 'RADFUEL', 'PERMELEC', 'PIPELESS', 'PIPEFUEL', 'ROOMHEAT', 'RMHTFUEL', 'WOODKILN', 'HSFUEL', 'CARRYEL', 'CARRYKER', 'CHIMNEY', 'FPFUEL', 'NGFPFLUE', 'USENGFP', 'RANGE', 'RNGFUEL', 'DIFEQUIP', 'DIFFUEL', 'EQMAMT', 'HEATROOM', 'THERMAIN', 'NUMTHERM', 'PROTHERM', 'AUTOHEATNITE', 'AUTOHEATDAY', 'TEMPHOME', 'TEMPGONE', 'TEMPNITE', 'MOISTURE', 'USEMOISTURE', 'ZHEATHOME', 'ZDNTHEAT', 'ZEQUIPNOHEAT', 'ZFUELNOHEAT', 'ZEQUIPM', 'ZFUELHEAT', 'ZMAINTHT', 'ZEQUIPAGE', 'ZHEATOTH', 'ZFURNFUEL', 'ZRADFUEL', 'ZPIPEFUEL', 'ZRMHTFUEL', 'ZHSFUEL', 'ZFPFUEL', 'ZNGFPFLUE', 'ZUSENGFP', 'ZRNGFUEL', 'ZDIFFUEL', 'ZEQMAMT', 'ZHEATROOM', 'ZTHERMAIN', 'ZNUMTHERM', 'ZPROTHERM', 'ZAUTOHEATNITE', 'ZAUTOHEATDAY', 'ZTEMPHOME', 'ZTEMPGONE', 'ZTEMPNITE', 'ZMOISTURE', 'ZUSEMOISTURE', 'NUMH2ONOTNK', 'NUMH2OHTRS', 'H2OTYPE1', 'FUELH2O', 'WHEATOTH', 'WHEATSIZ', 'WHEATAGE', 'WHEATBKT', 'HELPWH', 'HELPWHY', 'H2OTYPE2', 'FUELH2O2', 'WHEATSIZ2', 'WHEATAGE2', 'ZNUMH2OHTRS', 'ZNUMH2ONOTNK', 'ZH2OTYPE1', 'ZFUELH2O', 'ZWHEATOTH', 'ZWHEATSIZ', 'ZWHEATAGE', 'ZWHEATBKT', 'ZH2OTYPE2', 'ZFUELH2O2', 'ZWHEATSIZ2', 'ZWHEATAGE2', 'AIRCOND', 'DNTAC', 'COOLTYPENOAC', 'COOLTYPE', 'DUCTS', 'CENACHP', 'ACOTHERS', 'MAINTAC', 'AGECENAC', 'REPLCCAC', 'HELPCAC', 'HELPCACY', 'ACROOMS', 'USECENAC', 'THERMAINAC', 'PROTHERMAC', 'AUTOCOOLNITE', 'AUTOCOOLDAY', 'TEMPHOMEAC', 'TEMPGONEAC', 'TEMPNITEAC', 'NUMBERAC', 'WWACAGE', 'ESWWAC', 'REPLCWWAC', 'HELPWWAC', 'HELPWWACY', 'USEWWAC', 'NUMCFAN', 'USECFAN', 'TREESHAD', 'NOTMOIST', 'USENOTMOIST', 'ZAIRCOND', 'ZDNTAC', 'ZCOOLTYPENOAC', 'ZCOOLTYPE', 'ZDUCTS', 'ZCENACHP', 'ZACOTHERS', 'ZMAINTAC', 'ZAGECENAC', 'ZUSECENAC', 'ZACROOMS', 'ZTHERMAINAC', 'ZPROTHERMAC', 'ZAUTOCOOLNITE', 'ZAUTOCOOLDAY', 'ZTEMPHOMEAC', 'ZTEMPGONEAC', 'ZTEMPNITEAC', 'ZNUMBERAC', 'ZWWACAGE', 'ZUSEWWAC', 'ZNUMCFAN', 'ZUSECFAN', 'ZTREESHAD', 'ZNOTMOIST', 'ZUSENOTMOIST', 'HIGHCEIL', 'CATHCEIL', 'SWIMPOOL', 'POOL', 'FUELPOOL', 'RECBATH', 'FUELTUB', 'LGT12', 'LGT12EE', 'LGT4', 'LGT4EE', 'LGT1', 'LGT1EE', 'NOUTLGTNT', 'LGTOEE', 'NGASLIGHT', 'INSTLCFL', 'HELPCFL', 'HELPCFLY', 'SLDDRS', 'DOOR1SUM', 'WINDOWS', 'TYPEGLASS', 'NEWGLASS', 'HELPWIN', 'HELPWINY', 'ADQINSUL', 'INSTLINS', 'AGEINS', 'HELPINS', 'HELPINSY', 'DRAFTY', 'INSTLWS', 'AGEWS', 'HELPWS', 'HELPWSY', 'AUDIT', 'AGEAUD', 'HELPAUD', 'HELPAUDY', 'ZHIGHCEIL', 'ZCATHCEIL', 'ZSWIMPOOL', 'ZPOOL', 'ZFUELPOOL', 'ZRECBATH', 'ZFUELTUB', 'ZLGT12', 'ZLGT4', 'ZLGT1', 'ZNOUTLGTNT', 'ZNGASLIGHT', 'ZSLDDRS', 'ZDOOR1SUM', 'ZWINDOWS', 'ZTYPEGLASS', 'ZNEWGLASS', 'ZADQINSUL', 'ZINSTLINS', 'ZAGEINS', 'ZDRAFTY', 'ZINSTLWS', 'ZAGEWS', 'ZAUDIT', 'ZAGEAUD', 'USEEL', 'USENG', 'USELP', 'USEFO', 'USEKERO', 'USEWOOD', 'USESOLAR', 'USEOTH', 'ELWARM', 'ELECAUX', 'ELCOOL', 'ELWATER', 'ELFOOD', 'ELOTHER', 'UGWARM', 'UGASAUX', 'UGWATER', 'UGCOOK', 'UGOTH', 'LPWARM', 'LPGAUX', 'LPWATER', 'LPCOOK', 'LPOTHER', 'FOWARM', 'FOILAUX', 'FOWATER', 'FOOTHER', 'KRWARM', 'KEROAUX', 'KRWATER', 'KROTHER', 'WDWARM', 'WOODAUX', 'WDWATER', 'WDOTHUSE', 'SOLWARM', 'SOLARAUX', 'SOLWATER', 'SOLOTHER', 'OTHWARM', 'OTHERAUX', 'OTHWATER', 'OTHCOOK', 'ONSITE', 'ONSITEGRID', 'PELHEAT', 'PELHOTWA', 'PELCOOK', 'PELAC', 'PELLIGHT', 'OTHERWAYEL', 'PGASHEAT', 'PGASHTWA', 'PUGCOOK', 'PUGOTH', 'OTHERWAYNG', 'FOPAY', 'OTHERWAYFO', 'LPGPAY', 'OTHERWAYLPG', 'LPGDELV', 'KERODEL', 'KEROCASH', 'WOODLOGS', 'WDSCRAP', 'WDPELLET', 'WDOTHER', 'WOODAMT', 'ZONSITE', 'ZONSITEGRID', 'ZPELHEAT', 'ZPELHOTWA', 'ZPELCOOK', 'ZPELAC', 'ZPELLIGHT', 'ZOTHERWAYEL', 'ZPGASHEAT', 'ZPGASHTWA', 'ZPUGCOOK', 'ZPUGOTH', 'ZOTHERWAYNG', 'ZFOPAY', 'ZOTHERWAYFO', 'ZLPGPAY', 'ZOTHERWAYLPG', 'ZKERODEL', 'ZKEROCASH', 'ZNOCRCASH', 'ZNKRGALNC', 'ZWOODLOGS', 'ZWDSCRAP', 'ZWDPELLET', 'ZWDOTHER', 'ZWOODAMT', 'ZNUMCORDS', 'KFUELOT', 'HHSEX', 'EMPLOYHH', 'SPOUSE', 'SDESCENT', 'Householder_Race', 'EDUCATION', 'NHSLDMEM', 'HHAGE', 'AGEHHMEMCAT2', 'AGEHHMEMCAT3', 'AGEHHMEMCAT4', 'AGEHHMEMCAT5', 'AGEHHMEMCAT6', 'AGEHHMEMCAT7', 'AGEHHMEMCAT8', 'AGEHHMEMCAT9', 'AGEHHMEMCAT10', 'AGEHHMEMCAT11', 'AGEHHMEMCAT12', 'AGEHHMEMCAT13', 'AGEHHMEMCAT14', 'HBUSNESS', 'ATHOME', 'TELLWORK', 'TELLDAYS', 'OTHWORK', 'WORKPAY', 'RETIREPY', 'SSINCOME', 'CASHBEN', 'INVESTMT', 'RGLRPAY', 'MONEYPY', 'POVERTY100', 'POVERTY150', 'HUPROJ', 'RENTHELP', 'FOODASST', 'ZHHSEX', 'ZHHAGE', 'ZEMPLOYHH', 'ZSPOUSE', 'ZSDESCENT', 'ZHouseholder_Race', 'ZEDUCATION', 'ZNHSLDMEM', 'ZAGEHHMEMCAT2', 'ZAGEHHMEMCAT3', 'ZAGEHHMEMCAT4', 'ZAGEHHMEMCAT5', 'ZAGEHHMEMCAT6', 'ZAGEHHMEMCAT7', 'ZAGEHHMEMCAT8', 'ZAGEHHMEMCAT9', 'ZAGEHHMEMCAT10', 'ZAGEHHMEMCAT11', 'ZAGEHHMEMCAT12', 'ZAGEHHMEMCAT13', 'ZAGEHHMEMCAT14', 'ZHBUSNESS', 'ZATHOME', 'ZTELLWORK', 'ZTELLDAYS', 'ZOTHWORK', 'ZWORKPAY', 'ZRETIREPY', 'ZSSINCOME', 'ZCASHBEN', 'ZINVESTMT', 'ZRGLRPAY', 'ZMONEYPY', 'ZHUPROJ', 'ZRENTHELP', 'ZFOODASST', 'TOTSQFT', 'TOTSQFT_EN', 'TOTHSQFT', 'TOTUSQFT', 'TOTCSQFT', 'TOTUCSQFT', 'ZTOTSQFT', 'ZTOTSQFT_EN', 'ZTOTHSQFT', 'ZTOTUSQFT', 'ZTOTCSQFT', 'ZTOTUCSQFT', 'KWH', 'BTUEL', 'DOLLAREL', 'CUFEETNG', 'BTUNG', 'DOLLARNG', 'GALLONLP', 'BTULP', 'DOLLARLP', 'GALLONFO', 'BTUFO', 'DOLLARFO', 'GALLONKER', 'GALLONKERSPH', 'GALLONKERWTH', 'GALLONKEROTH', 'BTUKER', 'BTUKERWTH', 'DOLLARKER', 'DOLKERWTH', 'BTUWOOD', 'TOTALBTU', 'TOTALBTUSPH', 'TOTALBTUCOL', 'TOTALBTUWTH', 'TOTALBTURFG', 'TOTALBTUOTH', 'TOTALDOL', 'TOTALDOLSPH', 'TOTALDOLCOL', 'TOTALDOLWTH', 'TOTALDOLRFG', 'TOTALDOLOTH', 'KAVALEL', 'PERIODEL', 'SCALEEL', 'KAVALNG', 'PERIODNG', 'SCALENG', 'PERIODLP', 'SCALELP', 'PERIODFO', 'SCALEFO', 'PERIODKR', 'SCALEKER', 'HDD50', 'CDD80', 'GND_HDD65', 'OA_LAT', 'GWT', 'DesignDBT99', 'DesignDBT1']\n",
      " \n",
      "Columns with dtype:'float64' :  ['NWEIGHT', 'NUMCORDS', 'KWHSPH', 'KWHCOL', 'KWHWTH', 'KWHRFG', 'KWHOTH', 'BTUELSPH', 'BTUELCOL', 'BTUELWTH', 'BTUELRFG', 'BTUELOTH', 'DOLELSPH', 'DOLELCOL', 'DOLELWTH', 'DOLELRFG', 'DOLELOTH', 'CUFEETNGSPH', 'CUFEETNGWTH', 'CUFEETNGOTH', 'BTUNGSPH', 'BTUNGWTH', 'BTUNGOTH', 'DOLNGSPH', 'DOLNGWTH', 'DOLNGOTH', 'GALLONLPSPH', 'GALLONLPWTH', 'GALLONLPOTH', 'BTULPSPH', 'BTULPWTH', 'BTULPOTH', 'DOLLPSPH', 'DOLLPWTH', 'DOLLPOTH', 'GALLONFOSPH', 'GALLONFOWTH', 'GALLONFOOTH', 'BTUFOSPH', 'BTUFOWTH', 'BTUFOOTH', 'DOLFOSPH', 'DOLFOWTH', 'DOLFOOTH', 'BTUKERSPH', 'BTUKEROTH', 'DOLKERSPH', 'DOLKEROTH', 'CORDSWD', 'WSF']\n",
      " \n",
      "Columns with dtype:'O' :  ['METROMICRO', 'UR', 'NOCRCASH', 'NKRGALNC', 'IECC_Climate_Pub']\n"
     ]
    }
   ],
   "source": [
    "# Data set columns dtypes\n",
    "print(\" \\nDtype of columns in the DataFrame : \", df.dtypes.unique())\n",
    "print(\" \\nColumns with dtype:'int64' : \", list(df.select_dtypes(['int64']).columns))\n",
    "print(\" \\nColumns with dtype:'float64' : \", list(df.select_dtypes(['float64']).columns))\n",
    "print(\" \\nColumns with dtype:'O' : \", list(df.select_dtypes(['O']).columns))"
   ]
  },
  {
   "cell_type": "markdown",
   "id": "399042ee",
   "metadata": {},
   "source": [
    "**Note:** There are:\n",
    "- 885 columns with dtype:`int64`\n",
    "- 35 columns with dtype:`float64`\n",
    "- 5 columns with dtype:`O` which is equivalent to string"
   ]
  },
  {
   "cell_type": "markdown",
   "id": "08f9da16",
   "metadata": {},
   "source": [
    "Since this a hugely wide data set, I cannot easlity plot the correlation matrix for all the variables. However, let's check the `Pearson` correlations between the response (`\"KWH\"`) and independent variables."
   ]
  },
  {
   "cell_type": "code",
   "execution_count": 9,
   "id": "df672212",
   "metadata": {},
   "outputs": [
    {
     "data": {
      "text/plain": [
       "Text(0.5, 1.0, 'Distribution of Pearson correlation between response and independent variables')"
      ]
     },
     "execution_count": 9,
     "metadata": {},
     "output_type": "execute_result"
    },
    {
     "data": {
      "image/png": "[encoded data removed]",
      "text/plain": [
       "<Figure size 432x288 with 1 Axes>"
      ]
     },
     "metadata": {
      "needs_background": "light"
     },
     "output_type": "display_data"
    }
   ],
   "source": [
    "# Pearson correlation between KWH and other variables\n",
    "df[df.columns[:]].corr()['KWH'][:]\n",
    "\n",
    "# Let's plot the distribution of the correlation values\n",
    "pd.DataFrame(df[df.columns[1:]].corr()['KWH'][:].values.tolist()).hist(bins=10)\n",
    "plt.title('Distribution of Pearson correlation between response and independent variables')"
   ]
  },
  {
   "cell_type": "markdown",
   "id": "97c72771",
   "metadata": {},
   "source": [
    "**Note:** Based on above plot a lot of columns have almost zero correlation with the response and this is a good start for removing them."
   ]
  },
  {
   "cell_type": "markdown",
   "id": "47a50dee",
   "metadata": {},
   "source": [
    "#### 2-1 Initial Observations\n",
    "\n",
    "- We have 940 columns and many of these columns are redundant and can be removed from the data set. This removal process is included in the `Feature Engineering` section down below.\n",
    "> For example, the column `\"SCALEKER\"` which has three distinct values \"[-2,  3,  0]\".\n",
    "- The data set has no missing values which is good news. This could be due to the fact that some columns have already been imputed while finalizing the data set.\n",
    "- The response and many other independent variables are not normally distributed. \n",
    "- The `Pearson` correlation between the response and independent variables are significantly varied. If a Linear Regression model like `Ridge()` is used, the dependent and independent variables should be linearly related. Another assumtion is that there should be less or no `multicollinearity` in the given dataset. I will use these assumptions to remove independent variables."
   ]
  },
  {
   "cell_type": "markdown",
   "id": "495ef274",
   "metadata": {},
   "source": [
    "## 3- Feature Engineering"
   ]
  },
  {
   "cell_type": "markdown",
   "id": "07c47d41",
   "metadata": {},
   "source": [
    "In this section, I will make an attempt to remove redundant columns. To do so, first I will take a better look at the `Pearson` correlation between the response (`\"KWH\"`) and the independent variables."
   ]
  },
  {
   "cell_type": "markdown",
   "id": "c107fd78",
   "metadata": {},
   "source": [
    "Below, I am returning a data frame of the `Pearson` correlation values between the response and independent variables where the absolute value of the correlation exceeds a pre-determined limit (here, looking at the above histogram for distribution of correlations, I assume `limit=0.5` a.k.a: high correlation values)."
   ]
  },
  {
   "cell_type": "code",
   "execution_count": 10,
   "id": "947fd7de",
   "metadata": {},
   "outputs": [
    {
     "data": {
      "text/html": [
       "<div>\n",
       "<style scoped>\n",
       "    .dataframe tbody tr th:only-of-type {\n",
       "        vertical-align: middle;\n",
       "    }\n",
       "\n",
       "    .dataframe tbody tr th {\n",
       "        vertical-align: top;\n",
       "    }\n",
       "\n",
       "    .dataframe thead th {\n",
       "        text-align: right;\n",
       "    }\n",
       "</style>\n",
       "<table border=\"1\" class=\"dataframe\">\n",
       "  <thead>\n",
       "    <tr style=\"text-align: right;\">\n",
       "      <th></th>\n",
       "      <th>correlation</th>\n",
       "    </tr>\n",
       "  </thead>\n",
       "  <tbody>\n",
       "    <tr>\n",
       "      <th>KWH</th>\n",
       "      <td>1.000000</td>\n",
       "    </tr>\n",
       "    <tr>\n",
       "      <th>KWHCOL</th>\n",
       "      <td>0.655104</td>\n",
       "    </tr>\n",
       "    <tr>\n",
       "      <th>KWHWTH</th>\n",
       "      <td>0.585656</td>\n",
       "    </tr>\n",
       "    <tr>\n",
       "      <th>KWHRFG</th>\n",
       "      <td>0.638621</td>\n",
       "    </tr>\n",
       "    <tr>\n",
       "      <th>KWHOTH</th>\n",
       "      <td>0.880403</td>\n",
       "    </tr>\n",
       "    <tr>\n",
       "      <th>BTUEL</th>\n",
       "      <td>1.000000</td>\n",
       "    </tr>\n",
       "    <tr>\n",
       "      <th>BTUELCOL</th>\n",
       "      <td>0.655104</td>\n",
       "    </tr>\n",
       "    <tr>\n",
       "      <th>BTUELWTH</th>\n",
       "      <td>0.585656</td>\n",
       "    </tr>\n",
       "    <tr>\n",
       "      <th>BTUELRFG</th>\n",
       "      <td>0.638621</td>\n",
       "    </tr>\n",
       "    <tr>\n",
       "      <th>BTUELOTH</th>\n",
       "      <td>0.880403</td>\n",
       "    </tr>\n",
       "    <tr>\n",
       "      <th>DOLLAREL</th>\n",
       "      <td>0.868712</td>\n",
       "    </tr>\n",
       "    <tr>\n",
       "      <th>DOLELCOL</th>\n",
       "      <td>0.601626</td>\n",
       "    </tr>\n",
       "    <tr>\n",
       "      <th>DOLELWTH</th>\n",
       "      <td>0.514613</td>\n",
       "    </tr>\n",
       "    <tr>\n",
       "      <th>DOLELOTH</th>\n",
       "      <td>0.702251</td>\n",
       "    </tr>\n",
       "    <tr>\n",
       "      <th>TOTALBTUCOL</th>\n",
       "      <td>0.655103</td>\n",
       "    </tr>\n",
       "    <tr>\n",
       "      <th>TOTALBTURFG</th>\n",
       "      <td>0.638621</td>\n",
       "    </tr>\n",
       "    <tr>\n",
       "      <th>TOTALBTUOTH</th>\n",
       "      <td>0.676108</td>\n",
       "    </tr>\n",
       "    <tr>\n",
       "      <th>TOTALDOL</th>\n",
       "      <td>0.627922</td>\n",
       "    </tr>\n",
       "    <tr>\n",
       "      <th>TOTALDOLCOL</th>\n",
       "      <td>0.601628</td>\n",
       "    </tr>\n",
       "    <tr>\n",
       "      <th>TOTALDOLOTH</th>\n",
       "      <td>0.655742</td>\n",
       "    </tr>\n",
       "  </tbody>\n",
       "</table>\n",
       "</div>"
      ],
      "text/plain": [
       "             correlation\n",
       "KWH             1.000000\n",
       "KWHCOL          0.655104\n",
       "KWHWTH          0.585656\n",
       "KWHRFG          0.638621\n",
       "KWHOTH          0.880403\n",
       "BTUEL           1.000000\n",
       "BTUELCOL        0.655104\n",
       "BTUELWTH        0.585656\n",
       "BTUELRFG        0.638621\n",
       "BTUELOTH        0.880403\n",
       "DOLLAREL        0.868712\n",
       "DOLELCOL        0.601626\n",
       "DOLELWTH        0.514613\n",
       "DOLELOTH        0.702251\n",
       "TOTALBTUCOL     0.655103\n",
       "TOTALBTURFG     0.638621\n",
       "TOTALBTUOTH     0.676108\n",
       "TOTALDOL        0.627922\n",
       "TOTALDOLCOL     0.601628\n",
       "TOTALDOLOTH     0.655742"
      ]
     },
     "execution_count": 10,
     "metadata": {},
     "output_type": "execute_result"
    }
   ],
   "source": [
    "# Pearson correlation between KWH and other variables where the abs values exceeds the limit = 0.5\n",
    "corr_df = pd.DataFrame(df[df.columns[:]].corr()['KWH'][:])\n",
    "corr_df = corr_df.rename(columns={'KWH': 'correlation'})\n",
    "high_corr_df = corr_df.query(\"correlation >= 0.5 | correlation <= -0.5\")      \n",
    "high_corr_df"
   ]
  },
  {
   "cell_type": "markdown",
   "id": "4b1d3cbe",
   "metadata": {},
   "source": [
    "**Note:** Looks like there are quite a few variables known as **highly correlated** with the response (`\"KWH\"`)."
   ]
  },
  {
   "cell_type": "markdown",
   "id": "59c81bc9",
   "metadata": {},
   "source": [
    "#### 3-1 Removing Redundant Columns"
   ]
  },
  {
   "cell_type": "markdown",
   "id": "70ca4441",
   "metadata": {},
   "source": [
    "There are quite a few columns in the data set that are **redundant** for different reasons and can be safely removed to make the modeling part more efficient."
   ]
  },
  {
   "cell_type": "markdown",
   "id": "9cf06bd0",
   "metadata": {},
   "source": [
    "But before starting to remove redundant columns in this section, I will remove the target column `\"KWH\"` as below and add it back to the data set at the end."
   ]
  },
  {
   "cell_type": "code",
   "execution_count": 11,
   "id": "3d09cc1d",
   "metadata": {},
   "outputs": [],
   "source": [
    "# Making copies for later use\n",
    "df_copy = df.copy() # I will make use of the copy later on\n",
    "KWH_df = df_copy[['KWH']]\n",
    "\n",
    "# Dropping target: KWH, I will add it back once I am finishied with removing redundant columns\n",
    "df.drop(columns = ['KWH'], inplace=True)"
   ]
  },
  {
   "cell_type": "markdown",
   "id": "40f8c239",
   "metadata": {},
   "source": [
    "**Note:** The variable `\"BTUEL\"` has a correlation value of 1 with `\"KWH\"`. Looking at the data set variable dictionary, I can see that `\"BTUEL\"` represents `Total Site Electricity usage, in thousand BTU` which is technically a different system of units for electrical energy consumption (**BTU stands for British Thermal Unit**).\n",
    "\n",
    "This means it is safe to drop this column."
   ]
  },
  {
   "cell_type": "code",
   "execution_count": 12,
   "id": "4693b7ba",
   "metadata": {},
   "outputs": [],
   "source": [
    "# Dropping 'BTUEL' column\n",
    "df.drop(columns=[\"BTUEL\"], inplace=True)"
   ]
  },
  {
   "cell_type": "markdown",
   "id": "512614f9",
   "metadata": {},
   "source": [
    "**Note:** The `\"DOEID\"` column is a unique id for each respondent and can also be safely removed."
   ]
  },
  {
   "cell_type": "code",
   "execution_count": 13,
   "id": "a17e1c54",
   "metadata": {},
   "outputs": [],
   "source": [
    "# Dropping 'DOEID' column\n",
    "df.drop(columns=[\"DOEID\"], inplace=True)"
   ]
  },
  {
   "cell_type": "markdown",
   "id": "cf357669",
   "metadata": {},
   "source": [
    "**Note:** Some columns such as `\"KWHSPH\"` which represents `Electricity usage for space heating` or `\"KWHCOL\"` which represents `Electricity usage for air-conditioning, central and window/wall (room)` are in fact segregated forms of a main column. So, I will be removing these columns. Same story goes with the **BTU** side (e.g. `\"BTUELSPH\"` or `\"BTUELCOL\"`)."
   ]
  },
  {
   "cell_type": "code",
   "execution_count": 14,
   "id": "f477e1ab",
   "metadata": {},
   "outputs": [],
   "source": [
    "# Returning segregated columns\n",
    "segregated_cols = [col for col in df.columns if ((\"KWH\" in col and len(col) > 3) or \"BTUEL\" in col)]"
   ]
  },
  {
   "cell_type": "code",
   "execution_count": 15,
   "id": "af9e3588",
   "metadata": {},
   "outputs": [],
   "source": [
    "# Dropping segregated columns\n",
    "df.drop(columns = segregated_cols, inplace=True)"
   ]
  },
  {
   "cell_type": "markdown",
   "id": "5fc85c68",
   "metadata": {},
   "source": [
    "**Note:** There are also columns known as \"Imputation flag columns\" (without exception starting with letter \"Z\") that I should also consider removing. They do not seem to provide any valuable information. The values in these columns are mostly `0`."
   ]
  },
  {
   "cell_type": "markdown",
   "id": "4a61ce61",
   "metadata": {},
   "source": [
    "Before dropping these columns let's see if they are part of highly correlated columns. To do this, I will make use of below helper function."
   ]
  },
  {
   "cell_type": "code",
   "execution_count": 16,
   "id": "7c3afdf6",
   "metadata": {},
   "outputs": [],
   "source": [
    "# Helper function\n",
    "def list_contains(List1, List2): \n",
    "  \n",
    "    set1 = set(List1) \n",
    "    set2 = set(List2) \n",
    "    if set1.intersection(set2): \n",
    "        return True \n",
    "    else: \n",
    "        return False"
   ]
  },
  {
   "cell_type": "code",
   "execution_count": 17,
   "id": "c1cc9936",
   "metadata": {},
   "outputs": [],
   "source": [
    "# Returning imputed columns\n",
    "imputed_cols = [col for col in df.columns if col.startswith(\"Z\")]"
   ]
  },
  {
   "cell_type": "code",
   "execution_count": 18,
   "id": "e51bf456",
   "metadata": {},
   "outputs": [
    {
     "data": {
      "text/plain": [
       "False"
      ]
     },
     "execution_count": 18,
     "metadata": {},
     "output_type": "execute_result"
    }
   ],
   "source": [
    "# Checking if any of the imputed columns are highly correlated with the response\n",
    "list_contains(imputed_cols, high_corr_df.index.tolist())"
   ]
  },
  {
   "cell_type": "markdown",
   "id": "ad517fb5",
   "metadata": {},
   "source": [
    "So it is safe to drop these columns."
   ]
  },
  {
   "cell_type": "code",
   "execution_count": 19,
   "id": "53aa622f",
   "metadata": {},
   "outputs": [],
   "source": [
    "# Dropping imputed columns\n",
    "df.drop(columns = imputed_cols, inplace=True)"
   ]
  },
  {
   "cell_type": "markdown",
   "id": "3927de76",
   "metadata": {},
   "source": [
    "**Note:** There are also other columns in the data set such as `\"HELPWWACY\"` or `\"PELLIGHT\"` which have just a few unique values. I am calling them **saprse** columns.\n",
    "\n",
    "Let's take a look at below as an example:"
   ]
  },
  {
   "cell_type": "code",
   "execution_count": 20,
   "id": "9cb5621d",
   "metadata": {},
   "outputs": [
    {
     "data": {
      "text/plain": [
       "array([-2,  4,  3,  1, -9,  2], dtype=int64)"
      ]
     },
     "execution_count": 20,
     "metadata": {},
     "output_type": "execute_result"
    }
   ],
   "source": [
    "df[\"HELPWWACY\"].unique()"
   ]
  },
  {
   "cell_type": "code",
   "execution_count": 21,
   "id": "9169f509",
   "metadata": {},
   "outputs": [
    {
     "data": {
      "text/plain": [
       "array([ 1,  2,  3, -2], dtype=int64)"
      ]
     },
     "execution_count": 21,
     "metadata": {},
     "output_type": "execute_result"
    }
   ],
   "source": [
    "df[\"PELLIGHT\"].unique()"
   ]
  },
  {
   "cell_type": "code",
   "execution_count": 22,
   "id": "1b543176",
   "metadata": {},
   "outputs": [
    {
     "name": "stdout",
     "output_type": "stream",
     "text": [
      " \n",
      "Number of saprse columns :  228\n"
     ]
    }
   ],
   "source": [
    "# Returning sparse columns\n",
    "sparse_cols = []\n",
    "threshold = 0.85          # if 85% or more of the values in a column are only a certain value \n",
    "for col in df.columns:\n",
    "    freq = df[col].value_counts(normalize=True)\n",
    "    if freq.max() >= threshold:\n",
    "        sparse_cols.append(col)\n",
    "        \n",
    "print(\" \\nNumber of saprse columns : \", len(sparse_cols))"
   ]
  },
  {
   "cell_type": "markdown",
   "id": "7379f404",
   "metadata": {},
   "source": [
    "Before dropping these columns let's see if they are part of highly correlated columns. "
   ]
  },
  {
   "cell_type": "code",
   "execution_count": 23,
   "id": "3bce61fa",
   "metadata": {},
   "outputs": [
    {
     "data": {
      "text/plain": [
       "False"
      ]
     },
     "execution_count": 23,
     "metadata": {},
     "output_type": "execute_result"
    }
   ],
   "source": [
    "# Checking if any of the sparse columns are highly correlated with the response\n",
    "list_contains(sparse_cols, high_corr_df.index.tolist())"
   ]
  },
  {
   "cell_type": "markdown",
   "id": "1e95c88b",
   "metadata": {},
   "source": [
    "So it is safe to drop these columns."
   ]
  },
  {
   "cell_type": "code",
   "execution_count": 24,
   "id": "cb4603c4",
   "metadata": {},
   "outputs": [],
   "source": [
    "# Dropping sparse columns\n",
    "df.drop(columns = sparse_cols, inplace=True)"
   ]
  },
  {
   "cell_type": "markdown",
   "id": "5b0d2dc8",
   "metadata": {},
   "source": [
    "##### 3-1-1 Multicollinearity"
   ]
  },
  {
   "cell_type": "markdown",
   "id": "c2359757",
   "metadata": {},
   "source": [
    "Here, I want to see if there are columns that have an absolute correlation (with one another) greater than a pre-determined limit (e.g. `0.9`)."
   ]
  },
  {
   "cell_type": "code",
   "execution_count": 25,
   "id": "1b973e90",
   "metadata": {},
   "outputs": [
    {
     "data": {
      "text/plain": [
       "109"
      ]
     },
     "execution_count": 25,
     "metadata": {},
     "output_type": "execute_result"
    }
   ],
   "source": [
    "limit = 0.9\n",
    "\n",
    "# Creating correlation matrix\n",
    "corr_matrix = df.corr().abs()\n",
    "\n",
    "# Selecting upper triangle of correlation matrix\n",
    "upper = corr_matrix.where(np.triu(np.ones(corr_matrix.shape), k=1).astype(np.bool))\n",
    "\n",
    "# Finding features with correlation greater than the limit = 0.9\n",
    "to_drop = [column for column in upper.columns if any(upper[column] > limit)]\n",
    "len(to_drop)"
   ]
  },
  {
   "cell_type": "markdown",
   "id": "ec619187",
   "metadata": {},
   "source": [
    "Looks like there are quite a few columns that are collinear beyond the range of `0.9`."
   ]
  },
  {
   "cell_type": "markdown",
   "id": "23ff88c8",
   "metadata": {},
   "source": [
    "I will now make an attempt to find these collinear columns. If a number of columns (e.g. 3 columns) are collinear, I can choose to keep only one of the variables and drop the rest."
   ]
  },
  {
   "cell_type": "code",
   "execution_count": 26,
   "id": "16dad309",
   "metadata": {},
   "outputs": [
    {
     "name": "stdout",
     "output_type": "stream",
     "text": [
      "{'REGIONC', 'REPORTABLE_DOMAIN', 'DIVISION'}\n",
      "{'WELLPUMP', 'PRKGPLC1', 'STUDIO', 'TYPEHUQ', 'NAPTFLRS'}\n",
      "{'GND_HDD65', 'HDD30YR', 'AIA_Zone', 'HDD50', 'DesignDBT99', 'HDD65', 'GWT'}\n",
      "{'CDD30YR', 'CDD65'}\n",
      "{'KOWNRENT', 'HUPROJ'}\n",
      "{'YEARMADERANGE', 'YEARMADE'}\n",
      "{'TOTROOMS', 'OTHROOMS'}\n",
      "{'BASEUSE', 'BASEFIN', 'BASEHEAT', 'BASECOOL'}\n",
      "{'ATTICFIN', 'ATTCCOOL', 'ATTICUSE', 'ATTCHEAT'}\n",
      "{'GARGLOC', 'GARGHEAT', 'SIZEOFGARAGE', 'GARGCOOL'}\n",
      "{'OVENCLN', 'TYPECLN'}\n",
      "{'OUTGRILLFUEL', 'USEOTH'}\n",
      "{'TYPERFR2', 'SIZRFRI2', 'REFRIGT2', 'MONRFRI2', 'NUMFRIG'}\n",
      "{'SEPFREEZ', 'NUMFREEZ', 'FREEZER', 'UPRTFRZR', 'SIZFREEZ'}\n",
      "{'DRYRUSE', 'WASHLOAD', 'WASHTEMP', 'RNSETEMP', 'DRYER', 'TOPFRONT', 'CWASHER'}\n",
      "{'TVONWEWATCH1', 'TVONWDWATCH1'}\n",
      "{'TVSIZE2', 'TVAUDIOSYS2', 'DVD2', 'DIGITSTB2', 'COMBOVCRDVD2', 'VCR2', 'PLAYSTA2', 'TVTYPE2', 'OTHERSTB2'}\n",
      "{'TVONWE2', 'TVONWD2'}\n",
      "{'DVR3', 'VCR3', 'TVAUDIOSYS3', 'TVONWD3', 'TVONWE3', 'TVSIZE3', 'DIGITSTB3', 'COMBOVCRDVD3', 'DVD3', 'TVTYPE3', 'PLAYSTA3', 'CABLESAT3', 'OTHERSTB3'}\n",
      "{'PCTYPE1', 'INCABLE', 'INDSL', 'COMPUTER', 'INWIRELESS', 'PCPRINT', 'INTERNET', 'INDIALUP', 'INSATEL', 'PCONOFF1'}\n",
      "{'TIMEON2', 'PCTYPE2', 'PCONOFF2'}\n",
      "{'AUTOHEATDAY', 'AUTOHEATNITE'}\n",
      "{'TEMPHOME', 'TEMPNITE', 'TEMPGONE'}\n",
      "{'MOISTURE', 'USEMOISTURE'}\n",
      "{'UGWATER', 'PELHOTWA', 'PGASHTWA', 'ELWATER', 'FUELH2O'}\n",
      "{'COOLTYPE', 'AIRCOND', 'DNTAC', 'ELCOOL'}\n",
      "{'ACOTHERS', 'USECENAC', 'THERMAINAC', 'CENACHP', 'MAINTAC', 'PELAC', 'ACROOMS', 'PROTHERMAC'}\n",
      "{'AUTOCOOLNITE', 'AUTOCOOLDAY'}\n",
      "{'TEMPHOMEAC', 'TEMPGONEAC', 'TEMPNITEAC'}\n",
      "{'USEWWAC', 'NUMBERAC'}\n",
      "{'SCALENG', 'KAVALNG', 'USENG', 'PERIODNG'}\n",
      "{'USELP', 'LPOTHER'}\n",
      "{'ELWARM', 'PELHEAT'}\n",
      "{'PELCOOK', 'ELFOOD'}\n",
      "{'UGWARM', 'PGASHEAT'}\n",
      "{'UGCOOK', 'PUGCOOK'}\n",
      "{'TOTSQFT_EN', 'TOTSQFT'}\n",
      "{'TOTALDOLCOL', 'DOLELCOL', 'TOTALBTUCOL'}\n",
      "{'TOTALDOLRFG', 'DOLELRFG'}\n",
      "{'DOLELOTH', 'TOTALDOLOTH'}\n",
      "{'BTUNGSPH', 'DOLLARNG', 'CUFEETNG', 'DOLNGSPH', 'CUFEETNGSPH', 'BTUNG'}\n",
      "{'CUFEETNGWTH', 'DOLNGWTH', 'BTUNGWTH'}\n",
      "{'DOLNGOTH', 'BTUNGOTH', 'CUFEETNGOTH'}\n"
     ]
    }
   ],
   "source": [
    "# Returning the set of collinear features (having a correlation greater than 0.9) ---> Attribution to stackoverflow.com\n",
    "limit = 0.9\n",
    "\n",
    "corr = df.corr().stack().reset_index() \n",
    "corr.rename(columns = {\"level_0\": \"Feature1\", \"level_1\": \"Feature2\", 0: \"Correlation\"}, inplace=True)\n",
    "\n",
    "collinear_cols = corr[((corr['Feature1'] != corr['Feature2'] ) & ((corr['Correlation'] >= limit) | (corr['Correlation'] <= limit * -1)))]\n",
    "\n",
    "col_set = []\n",
    "for i, row in collinear_cols.iterrows():\n",
    "    feat_1 = row['Feature1']\n",
    "    feat_2 = row['Feature2']\n",
    "    feat_set = {feat_1, feat_2} # A set of collinear features\n",
    "    col_set_extra = []\n",
    "    \n",
    "    for j in range(len(col_set)):\n",
    "        if len(col_set[j].intersection(feat_set))!= 0:  \n",
    "            col_set_extra.append(j)\n",
    "\n",
    "    if len(col_set_extra) == 0:\n",
    "        col_set.append(feat_set)\n",
    "    elif len(col_set_extra) == 1:\n",
    "        col_set[col_set_extra[0]].update(feat_set)\n",
    "    else:\n",
    "        temp_set = [col_set[j] for j in col_set_extra]\n",
    "        \n",
    "        for k in temp_set:\n",
    "            col_set.remove(k)\n",
    "            feat_set.update(k)\n",
    "        \n",
    "        col_set.append(feat_set)\n",
    "        \n",
    "# Now let's print out the sets of collinear features\n",
    "for i in col_set:\n",
    "    print(i)"
   ]
  },
  {
   "cell_type": "markdown",
   "id": "49ca6fd6",
   "metadata": {},
   "source": [
    "To make sure I am on the right track, let's check the correlation between the pairs of this set: `{'CUFEETNGWTH', 'DOLNGWTH', 'BTUNGWTH'}`"
   ]
  },
  {
   "cell_type": "code",
   "execution_count": 27,
   "id": "8ae84576",
   "metadata": {},
   "outputs": [
    {
     "name": "stdout",
     "output_type": "stream",
     "text": [
      "0.957322985303429\n",
      "0.9999999998879312\n",
      "0.9573230897414725\n"
     ]
    }
   ],
   "source": [
    "print(df['CUFEETNGWTH'].corr(df['DOLNGWTH']))\n",
    "print(df['CUFEETNGWTH'].corr(df['BTUNGWTH']))\n",
    "print(df['DOLNGWTH'].corr(df['BTUNGWTH']))"
   ]
  },
  {
   "cell_type": "markdown",
   "id": "186de50d",
   "metadata": {},
   "source": [
    "Yes, I am on the right track!"
   ]
  },
  {
   "cell_type": "markdown",
   "id": "344367a3",
   "metadata": {},
   "source": [
    "So, Let's go ahead and keep one of the columns in each collinear sets."
   ]
  },
  {
   "cell_type": "code",
   "execution_count": 28,
   "id": "a4961af4",
   "metadata": {},
   "outputs": [],
   "source": [
    "# Keeping only one collinear column and dropping the rest\n",
    "for i in col_set:\n",
    "  i.pop()\n",
    "  df.drop(columns = list(i), inplace=True)"
   ]
  },
  {
   "cell_type": "markdown",
   "id": "41df63ec",
   "metadata": {},
   "source": [
    "Let's check the number of the columns of the data in its current state."
   ]
  },
  {
   "cell_type": "code",
   "execution_count": 29,
   "id": "cebc1230",
   "metadata": {},
   "outputs": [
    {
     "data": {
      "text/plain": [
       "222"
      ]
     },
     "execution_count": 29,
     "metadata": {},
     "output_type": "execute_result"
    }
   ],
   "source": [
    "# Checking the number of columns at this point\n",
    "df.shape[1]"
   ]
  },
  {
   "cell_type": "markdown",
   "id": "6aa4b72e",
   "metadata": {},
   "source": [
    "Let's take a look at the correlation matrix plot for the data set."
   ]
  },
  {
   "cell_type": "code",
   "execution_count": 30,
   "id": "2918a814",
   "metadata": {},
   "outputs": [
    {
     "data": {
      "image/png": "[encoded data removed]",
      "text/plain": [
       "<Figure size 720x576 with 2 Axes>"
      ]
     },
     "metadata": {
      "needs_background": "light"
     },
     "output_type": "display_data"
    }
   ],
   "source": [
    "# Correlation matrix plot for the data set at this point\n",
    "fig, ax = plt.subplots(figsize=(10,8))\n",
    "\n",
    "cmap = LinearSegmentedColormap.from_list('RedGreenRed', ['crimson', 'lime', 'crimson'])\n",
    "ax = sns.heatmap(df.corr(), cmap=cmap, vmin=-1, vmax=1)\n",
    "plt.show()"
   ]
  },
  {
   "cell_type": "markdown",
   "id": "1eb782fc",
   "metadata": {},
   "source": [
    "Although there seems to be some minor collinearity left in the data set, the results of \"Feature Engineering\" seem to be decent."
   ]
  },
  {
   "cell_type": "markdown",
   "id": "bb0dd49b",
   "metadata": {},
   "source": [
    "#### 3-2 Removing Outliers"
   ]
  },
  {
   "cell_type": "markdown",
   "id": "73f202b1",
   "metadata": {},
   "source": [
    "The presence of outliers can significantly affect the performance of the created model. As a heuristic, an outlier of a column in a dataset is defined as a value that is more than `3` standard deviations from the mean of the column values."
   ]
  },
  {
   "cell_type": "markdown",
   "id": "29cb23b6",
   "metadata": {},
   "source": [
    "I will now use this heuristic to remove outliers in the remaining columns of the data set."
   ]
  },
  {
   "cell_type": "markdown",
   "id": "9b7963a5",
   "metadata": {},
   "source": [
    "The data set in its current state has two categorical features (`['UR', 'IECC_Climate_Pub']`)."
   ]
  },
  {
   "cell_type": "markdown",
   "id": "bb3917d4",
   "metadata": {},
   "source": [
    "Let's check the shape of the data set **before** removing outliers."
   ]
  },
  {
   "cell_type": "code",
   "execution_count": 31,
   "id": "e6da0b6c",
   "metadata": {},
   "outputs": [
    {
     "data": {
      "text/plain": [
       "(12083, 222)"
      ]
     },
     "execution_count": 31,
     "metadata": {},
     "output_type": "execute_result"
    }
   ],
   "source": [
    "df.shape"
   ]
  },
  {
   "cell_type": "markdown",
   "id": "60134230",
   "metadata": {},
   "source": [
    "##### 3-2-1 Method 1"
   ]
  },
  {
   "cell_type": "markdown",
   "id": "01e7e29f",
   "metadata": {},
   "source": [
    "In this method, I will use `z-scores` to remove outliers in the whole data set."
   ]
  },
  {
   "cell_type": "code",
   "execution_count": 32,
   "id": "07340b51",
   "metadata": {},
   "outputs": [],
   "source": [
    "# Removing outliers using z-scores\n",
    "categorical_features = ['UR', 'IECC_Climate_Pub'] # These are the two categorical columns in the data set\n",
    "numeric_df = df.copy()\n",
    "numeric_df.drop(columns = categorical_features, inplace=True)\n",
    "len(numeric_df.columns)\n",
    "\n",
    "# Using z-scores \n",
    "z_scores = stats.zscore(numeric_df)\n",
    "abs_z_scores = np.abs(z_scores)\n",
    "filtered_entries = (abs_z_scores < 3).all(axis=1)\n",
    "df_filtered = numeric_df[filtered_entries]"
   ]
  },
  {
   "cell_type": "markdown",
   "id": "3dbd6564",
   "metadata": {},
   "source": [
    "Let's check the shape of the data frame **after** removing outliers."
   ]
  },
  {
   "cell_type": "code",
   "execution_count": 33,
   "id": "de46075f",
   "metadata": {},
   "outputs": [
    {
     "data": {
      "text/plain": [
       "(3027, 220)"
      ]
     },
     "execution_count": 33,
     "metadata": {},
     "output_type": "execute_result"
    }
   ],
   "source": [
    "df_filtered.shape"
   ]
  },
  {
   "cell_type": "markdown",
   "id": "d855bff5",
   "metadata": {},
   "source": [
    "Wow! This method removes too many rows which is too much of a loss of data. The reason is that in above method, all  the rows that include at least one outlier in a column are aggressively removed."
   ]
  },
  {
   "cell_type": "markdown",
   "id": "f2155839",
   "metadata": {},
   "source": [
    "##### 3-2-2 Method 2"
   ]
  },
  {
   "cell_type": "markdown",
   "id": "89f2447b",
   "metadata": {},
   "source": [
    "To avoid this issue, I should be less strict on removing the outliers and first see what percentage of each column is outliers. The following code does this."
   ]
  },
  {
   "cell_type": "code",
   "execution_count": 34,
   "id": "ef66ada0",
   "metadata": {},
   "outputs": [
    {
     "data": {
      "text/plain": [
       "ACOTHERS          0.000000\n",
       "ADQINSUL          0.984855\n",
       "AGECDRYER        19.697095\n",
       "AGECENAC         19.423984\n",
       "AGECWASH         18.852934\n",
       "                   ...    \n",
       "WINDOWS           3.732517\n",
       "WORKPAY          23.322023\n",
       "WSF               0.107589\n",
       "WWACAGE          21.989572\n",
       "YEARMADERANGE     0.000000\n",
       "Length: 222, dtype: float64"
      ]
     },
     "execution_count": 34,
     "metadata": {},
     "output_type": "execute_result"
    }
   ],
   "source": [
    "# Returning the percentage of outliers in each column\n",
    "\n",
    "# Defining 25th and 75th percentile\n",
    "Q1 = df.quantile(0.25)\n",
    "Q3 = df.quantile(0.75)\n",
    "IQR = Q3 - Q1\n",
    "\n",
    "((((df < (Q1 - 1.5 * IQR)) | (df > (Q3 + 1.5 * IQR))).sum())/df.shape[0]) * 100 "
   ]
  },
  {
   "cell_type": "markdown",
   "id": "adbf6a29",
   "metadata": {},
   "source": [
    "**Note:** I want to see which columns have `< 1%` outliers. For these columns I would remove the outlier rows. For columns with `> 1%` outliers I would replace the outlier with the mean of the column. The stricter this assumption (limits greater than **1**) the more data will be lost. So I think this would be a safe assumption."
   ]
  },
  {
   "cell_type": "code",
   "execution_count": 35,
   "id": "9884ae49",
   "metadata": {},
   "outputs": [],
   "source": [
    "# Removing outliers using percentiles \n",
    "for col in df.columns:\n",
    "    if col in ['UR', 'IECC_Climate_Pub']:\n",
    "        continue\n",
    "        \n",
    "    Q1_col, Q3_col = df[col].quantile(0.25), df[col].quantile(0.75)\n",
    "    IQR_col = Q3_col - Q1_col\n",
    "    lower, upper = Q1_col - IQR_col * 1.5, Q3_col + IQR_col * 1.5\n",
    "    outliers = df[(df[col] < lower) | (df[col] > upper)] \n",
    "    if len(outliers) > 0:\n",
    "        percentage = (outliers.shape[0] / df.shape[0]) * 100\n",
    "        if percentage < 1:\n",
    "            df.drop(index=outliers.index, inplace=True)\n",
    "    else:\n",
    "        df[col].where(((df[col] < lower) | (df[col] > upper)),df[col].mean())"
   ]
  },
  {
   "cell_type": "markdown",
   "id": "5e56b33e",
   "metadata": {},
   "source": [
    "Let's check the shape of the data frame **after** removing outliers."
   ]
  },
  {
   "cell_type": "code",
   "execution_count": 36,
   "id": "537135b8",
   "metadata": {},
   "outputs": [
    {
     "data": {
      "text/plain": [
       "(11076, 222)"
      ]
     },
     "execution_count": 36,
     "metadata": {},
     "output_type": "execute_result"
    }
   ],
   "source": [
    "df.shape"
   ]
  },
  {
   "cell_type": "markdown",
   "id": "b475f6c1",
   "metadata": {},
   "source": [
    "This method makes more sense and I will stick to it."
   ]
  },
  {
   "cell_type": "markdown",
   "id": "77f3cd03",
   "metadata": {},
   "source": [
    "As mentioned above, since I am done with removing redundant columns at this point, I will add the target column `\"KWH\"` back in as below."
   ]
  },
  {
   "cell_type": "code",
   "execution_count": 37,
   "id": "e528d9ff",
   "metadata": {},
   "outputs": [
    {
     "data": {
      "text/html": [
       "<div>\n",
       "<style scoped>\n",
       "    .dataframe tbody tr th:only-of-type {\n",
       "        vertical-align: middle;\n",
       "    }\n",
       "\n",
       "    .dataframe tbody tr th {\n",
       "        vertical-align: top;\n",
       "    }\n",
       "\n",
       "    .dataframe thead th {\n",
       "        text-align: right;\n",
       "    }\n",
       "</style>\n",
       "<table border=\"1\" class=\"dataframe\">\n",
       "  <thead>\n",
       "    <tr style=\"text-align: right;\">\n",
       "      <th></th>\n",
       "      <th>REGIONC</th>\n",
       "      <th>NWEIGHT</th>\n",
       "      <th>CDD30YR</th>\n",
       "      <th>Climate_Region_Pub</th>\n",
       "      <th>UR</th>\n",
       "      <th>KOWNRENT</th>\n",
       "      <th>YEARMADERANGE</th>\n",
       "      <th>OCCUPYYRANGE</th>\n",
       "      <th>NUMFLRS</th>\n",
       "      <th>NUMAPTS</th>\n",
       "      <th>...</th>\n",
       "      <th>TOTALDOLRFG</th>\n",
       "      <th>PERIODEL</th>\n",
       "      <th>SCALENG</th>\n",
       "      <th>IECC_Climate_Pub</th>\n",
       "      <th>CDD80</th>\n",
       "      <th>GND_HDD65</th>\n",
       "      <th>WSF</th>\n",
       "      <th>OA_LAT</th>\n",
       "      <th>DesignDBT1</th>\n",
       "      <th>KWH</th>\n",
       "    </tr>\n",
       "  </thead>\n",
       "  <tbody>\n",
       "    <tr>\n",
       "      <th>0</th>\n",
       "      <td>2</td>\n",
       "      <td>2471.68</td>\n",
       "      <td>1271</td>\n",
       "      <td>4</td>\n",
       "      <td>U</td>\n",
       "      <td>1</td>\n",
       "      <td>7</td>\n",
       "      <td>8</td>\n",
       "      <td>-2</td>\n",
       "      <td>-2</td>\n",
       "      <td>...</td>\n",
       "      <td>108</td>\n",
       "      <td>1</td>\n",
       "      <td>-2</td>\n",
       "      <td>4A</td>\n",
       "      <td>56</td>\n",
       "      <td>4250</td>\n",
       "      <td>0.48</td>\n",
       "      <td>6</td>\n",
       "      <td>96</td>\n",
       "      <td>18466</td>\n",
       "    </tr>\n",
       "    <tr>\n",
       "      <th>1</th>\n",
       "      <td>4</td>\n",
       "      <td>8599.17</td>\n",
       "      <td>143</td>\n",
       "      <td>5</td>\n",
       "      <td>U</td>\n",
       "      <td>2</td>\n",
       "      <td>6</td>\n",
       "      <td>8</td>\n",
       "      <td>-2</td>\n",
       "      <td>-2</td>\n",
       "      <td>...</td>\n",
       "      <td>121</td>\n",
       "      <td>1</td>\n",
       "      <td>0</td>\n",
       "      <td>3C</td>\n",
       "      <td>26</td>\n",
       "      <td>2393</td>\n",
       "      <td>0.61</td>\n",
       "      <td>0</td>\n",
       "      <td>73</td>\n",
       "      <td>5148</td>\n",
       "    </tr>\n",
       "    <tr>\n",
       "      <th>2</th>\n",
       "      <td>1</td>\n",
       "      <td>8969.92</td>\n",
       "      <td>829</td>\n",
       "      <td>1</td>\n",
       "      <td>U</td>\n",
       "      <td>2</td>\n",
       "      <td>3</td>\n",
       "      <td>7</td>\n",
       "      <td>2</td>\n",
       "      <td>8</td>\n",
       "      <td>...</td>\n",
       "      <td>243</td>\n",
       "      <td>1</td>\n",
       "      <td>3</td>\n",
       "      <td>5A</td>\n",
       "      <td>49</td>\n",
       "      <td>5654</td>\n",
       "      <td>0.48</td>\n",
       "      <td>3</td>\n",
       "      <td>88</td>\n",
       "      <td>2218</td>\n",
       "    </tr>\n",
       "    <tr>\n",
       "      <th>3</th>\n",
       "      <td>2</td>\n",
       "      <td>18003.64</td>\n",
       "      <td>868</td>\n",
       "      <td>1</td>\n",
       "      <td>U</td>\n",
       "      <td>1</td>\n",
       "      <td>5</td>\n",
       "      <td>5</td>\n",
       "      <td>-2</td>\n",
       "      <td>-2</td>\n",
       "      <td>...</td>\n",
       "      <td>159</td>\n",
       "      <td>5</td>\n",
       "      <td>3</td>\n",
       "      <td>5A</td>\n",
       "      <td>0</td>\n",
       "      <td>4941</td>\n",
       "      <td>0.55</td>\n",
       "      <td>4</td>\n",
       "      <td>87</td>\n",
       "      <td>10015</td>\n",
       "    </tr>\n",
       "    <tr>\n",
       "      <th>4</th>\n",
       "      <td>1</td>\n",
       "      <td>5999.61</td>\n",
       "      <td>797</td>\n",
       "      <td>1</td>\n",
       "      <td>U</td>\n",
       "      <td>1</td>\n",
       "      <td>5</td>\n",
       "      <td>5</td>\n",
       "      <td>-2</td>\n",
       "      <td>-2</td>\n",
       "      <td>...</td>\n",
       "      <td>85</td>\n",
       "      <td>1</td>\n",
       "      <td>0</td>\n",
       "      <td>5A</td>\n",
       "      <td>0</td>\n",
       "      <td>5426</td>\n",
       "      <td>0.61</td>\n",
       "      <td>4</td>\n",
       "      <td>90</td>\n",
       "      <td>2869</td>\n",
       "    </tr>\n",
       "  </tbody>\n",
       "</table>\n",
       "<p>5 rows × 223 columns</p>\n",
       "</div>"
      ],
      "text/plain": [
       "   REGIONC   NWEIGHT  CDD30YR  Climate_Region_Pub UR  KOWNRENT  YEARMADERANGE  \\\n",
       "0        2   2471.68     1271                   4  U         1              7   \n",
       "1        4   8599.17      143                   5  U         2              6   \n",
       "2        1   8969.92      829                   1  U         2              3   \n",
       "3        2  18003.64      868                   1  U         1              5   \n",
       "4        1   5999.61      797                   1  U         1              5   \n",
       "\n",
       "   OCCUPYYRANGE  NUMFLRS  NUMAPTS  ...  TOTALDOLRFG  PERIODEL  SCALENG  \\\n",
       "0             8       -2       -2  ...          108         1       -2   \n",
       "1             8       -2       -2  ...          121         1        0   \n",
       "2             7        2        8  ...          243         1        3   \n",
       "3             5       -2       -2  ...          159         5        3   \n",
       "4             5       -2       -2  ...           85         1        0   \n",
       "\n",
       "   IECC_Climate_Pub  CDD80  GND_HDD65   WSF  OA_LAT  DesignDBT1    KWH  \n",
       "0                4A     56       4250  0.48       6          96  18466  \n",
       "1                3C     26       2393  0.61       0          73   5148  \n",
       "2                5A     49       5654  0.48       3          88   2218  \n",
       "3                5A      0       4941  0.55       4          87  10015  \n",
       "4                5A      0       5426  0.61       4          90   2869  \n",
       "\n",
       "[5 rows x 223 columns]"
      ]
     },
     "execution_count": 37,
     "metadata": {},
     "output_type": "execute_result"
    }
   ],
   "source": [
    "# Adding target: KWH column back to the data set\n",
    "df = df.merge(KWH_df, left_index=True, right_index=True)\n",
    "df.head()"
   ]
  },
  {
   "cell_type": "code",
   "execution_count": 38,
   "id": "5e8a2e11",
   "metadata": {},
   "outputs": [
    {
     "data": {
      "text/plain": [
       "True"
      ]
     },
     "execution_count": 38,
     "metadata": {},
     "output_type": "execute_result"
    }
   ],
   "source": [
    "# Sanity check\n",
    "\"KWH\" in df.columns"
   ]
  },
  {
   "cell_type": "markdown",
   "id": "ad207a37",
   "metadata": {},
   "source": [
    "I will now continue with this data set for the modeling."
   ]
  },
  {
   "cell_type": "markdown",
   "id": "5aed2de2",
   "metadata": {},
   "source": [
    "### 4- Pre-processing"
   ]
  },
  {
   "cell_type": "markdown",
   "id": "4b0ddff7",
   "metadata": {},
   "source": [
    "Let's split the data into train/test sets."
   ]
  },
  {
   "cell_type": "code",
   "execution_count": 39,
   "id": "23fe93f2",
   "metadata": {},
   "outputs": [
    {
     "data": {
      "text/html": [
       "<div>\n",
       "<style scoped>\n",
       "    .dataframe tbody tr th:only-of-type {\n",
       "        vertical-align: middle;\n",
       "    }\n",
       "\n",
       "    .dataframe tbody tr th {\n",
       "        vertical-align: top;\n",
       "    }\n",
       "\n",
       "    .dataframe thead th {\n",
       "        text-align: right;\n",
       "    }\n",
       "</style>\n",
       "<table border=\"1\" class=\"dataframe\">\n",
       "  <thead>\n",
       "    <tr style=\"text-align: right;\">\n",
       "      <th></th>\n",
       "      <th>REGIONC</th>\n",
       "      <th>NWEIGHT</th>\n",
       "      <th>CDD30YR</th>\n",
       "      <th>Climate_Region_Pub</th>\n",
       "      <th>UR</th>\n",
       "      <th>KOWNRENT</th>\n",
       "      <th>YEARMADERANGE</th>\n",
       "      <th>OCCUPYYRANGE</th>\n",
       "      <th>NUMFLRS</th>\n",
       "      <th>NUMAPTS</th>\n",
       "      <th>...</th>\n",
       "      <th>TOTALDOLRFG</th>\n",
       "      <th>PERIODEL</th>\n",
       "      <th>SCALENG</th>\n",
       "      <th>IECC_Climate_Pub</th>\n",
       "      <th>CDD80</th>\n",
       "      <th>GND_HDD65</th>\n",
       "      <th>WSF</th>\n",
       "      <th>OA_LAT</th>\n",
       "      <th>DesignDBT1</th>\n",
       "      <th>KWH</th>\n",
       "    </tr>\n",
       "  </thead>\n",
       "  <tbody>\n",
       "    <tr>\n",
       "      <th>10793</th>\n",
       "      <td>2</td>\n",
       "      <td>2711.43</td>\n",
       "      <td>1657</td>\n",
       "      <td>4</td>\n",
       "      <td>U</td>\n",
       "      <td>2</td>\n",
       "      <td>1</td>\n",
       "      <td>8</td>\n",
       "      <td>-2</td>\n",
       "      <td>-2</td>\n",
       "      <td>...</td>\n",
       "      <td>73</td>\n",
       "      <td>1</td>\n",
       "      <td>0</td>\n",
       "      <td>4A</td>\n",
       "      <td>77</td>\n",
       "      <td>4530</td>\n",
       "      <td>0.51</td>\n",
       "      <td>4</td>\n",
       "      <td>91</td>\n",
       "      <td>8619</td>\n",
       "    </tr>\n",
       "    <tr>\n",
       "      <th>4799</th>\n",
       "      <td>1</td>\n",
       "      <td>6814.27</td>\n",
       "      <td>698</td>\n",
       "      <td>1</td>\n",
       "      <td>U</td>\n",
       "      <td>1</td>\n",
       "      <td>2</td>\n",
       "      <td>7</td>\n",
       "      <td>-2</td>\n",
       "      <td>-2</td>\n",
       "      <td>...</td>\n",
       "      <td>238</td>\n",
       "      <td>1</td>\n",
       "      <td>3</td>\n",
       "      <td>5A</td>\n",
       "      <td>2</td>\n",
       "      <td>5450</td>\n",
       "      <td>0.59</td>\n",
       "      <td>4</td>\n",
       "      <td>85</td>\n",
       "      <td>7468</td>\n",
       "    </tr>\n",
       "    <tr>\n",
       "      <th>5863</th>\n",
       "      <td>3</td>\n",
       "      <td>7968.44</td>\n",
       "      <td>2423</td>\n",
       "      <td>2</td>\n",
       "      <td>U</td>\n",
       "      <td>2</td>\n",
       "      <td>5</td>\n",
       "      <td>8</td>\n",
       "      <td>2</td>\n",
       "      <td>8</td>\n",
       "      <td>...</td>\n",
       "      <td>170</td>\n",
       "      <td>5</td>\n",
       "      <td>-2</td>\n",
       "      <td>3B-4B</td>\n",
       "      <td>485</td>\n",
       "      <td>1254</td>\n",
       "      <td>0.52</td>\n",
       "      <td>2</td>\n",
       "      <td>101</td>\n",
       "      <td>9515</td>\n",
       "    </tr>\n",
       "    <tr>\n",
       "      <th>11651</th>\n",
       "      <td>1</td>\n",
       "      <td>6919.42</td>\n",
       "      <td>762</td>\n",
       "      <td>1</td>\n",
       "      <td>U</td>\n",
       "      <td>1</td>\n",
       "      <td>1</td>\n",
       "      <td>8</td>\n",
       "      <td>-2</td>\n",
       "      <td>-2</td>\n",
       "      <td>...</td>\n",
       "      <td>213</td>\n",
       "      <td>1</td>\n",
       "      <td>0</td>\n",
       "      <td>5A</td>\n",
       "      <td>23</td>\n",
       "      <td>5096</td>\n",
       "      <td>0.58</td>\n",
       "      <td>4</td>\n",
       "      <td>86</td>\n",
       "      <td>7216</td>\n",
       "    </tr>\n",
       "    <tr>\n",
       "      <th>1228</th>\n",
       "      <td>1</td>\n",
       "      <td>6919.42</td>\n",
       "      <td>737</td>\n",
       "      <td>1</td>\n",
       "      <td>U</td>\n",
       "      <td>1</td>\n",
       "      <td>5</td>\n",
       "      <td>5</td>\n",
       "      <td>-2</td>\n",
       "      <td>-2</td>\n",
       "      <td>...</td>\n",
       "      <td>150</td>\n",
       "      <td>1</td>\n",
       "      <td>0</td>\n",
       "      <td>5A</td>\n",
       "      <td>11</td>\n",
       "      <td>5082</td>\n",
       "      <td>0.60</td>\n",
       "      <td>5</td>\n",
       "      <td>85</td>\n",
       "      <td>10914</td>\n",
       "    </tr>\n",
       "  </tbody>\n",
       "</table>\n",
       "<p>5 rows × 223 columns</p>\n",
       "</div>"
      ],
      "text/plain": [
       "       REGIONC  NWEIGHT  CDD30YR  Climate_Region_Pub UR  KOWNRENT  \\\n",
       "10793        2  2711.43     1657                   4  U         2   \n",
       "4799         1  6814.27      698                   1  U         1   \n",
       "5863         3  7968.44     2423                   2  U         2   \n",
       "11651        1  6919.42      762                   1  U         1   \n",
       "1228         1  6919.42      737                   1  U         1   \n",
       "\n",
       "       YEARMADERANGE  OCCUPYYRANGE  NUMFLRS  NUMAPTS  ...  TOTALDOLRFG  \\\n",
       "10793              1             8       -2       -2  ...           73   \n",
       "4799               2             7       -2       -2  ...          238   \n",
       "5863               5             8        2        8  ...          170   \n",
       "11651              1             8       -2       -2  ...          213   \n",
       "1228               5             5       -2       -2  ...          150   \n",
       "\n",
       "       PERIODEL  SCALENG  IECC_Climate_Pub  CDD80  GND_HDD65   WSF  OA_LAT  \\\n",
       "10793         1        0                4A     77       4530  0.51       4   \n",
       "4799          1        3                5A      2       5450  0.59       4   \n",
       "5863          5       -2             3B-4B    485       1254  0.52       2   \n",
       "11651         1        0                5A     23       5096  0.58       4   \n",
       "1228          1        0                5A     11       5082  0.60       5   \n",
       "\n",
       "       DesignDBT1    KWH  \n",
       "10793          91   8619  \n",
       "4799           85   7468  \n",
       "5863          101   9515  \n",
       "11651          86   7216  \n",
       "1228           85  10914  \n",
       "\n",
       "[5 rows x 223 columns]"
      ]
     },
     "execution_count": 39,
     "metadata": {},
     "output_type": "execute_result"
    }
   ],
   "source": [
    "# Splitting the data into train and test sets\n",
    "train_df, test_df = train_test_split(df, test_size=0.2, random_state=123)\n",
    "train_df.head()"
   ]
  },
  {
   "cell_type": "markdown",
   "id": "900c9087",
   "metadata": {},
   "source": [
    "Below, I will divide the columns into different groups for pre-processing."
   ]
  },
  {
   "cell_type": "code",
   "execution_count": 40,
   "id": "db1ea52c",
   "metadata": {},
   "outputs": [],
   "source": [
    "# Reidentifying the target and different features\n",
    "target = \"KWH\"\n",
    "\n",
    "binary_features = [\"UR\"]\n",
    "categorical_features = [\"IECC_Climate_Pub\"]\n",
    "numeric_features = list(\n",
    "    set(train_df.columns) - set(categorical_features) - set(binary_features) - set([target])\n",
    ")"
   ]
  },
  {
   "cell_type": "markdown",
   "id": "457a262e",
   "metadata": {},
   "source": [
    "Coming up next is splitting train/test sets into corresponding X and y sets."
   ]
  },
  {
   "cell_type": "code",
   "execution_count": 41,
   "id": "de0689a8",
   "metadata": {},
   "outputs": [],
   "source": [
    "# Splitting X and y for train_df and test_df\n",
    "X_train, y_train = train_df.drop(columns=[\"KWH\"]), train_df[\"KWH\"]\n",
    "X_test, y_test = test_df.drop(columns=[\"KWH\"]), test_df[\"KWH\"]"
   ]
  },
  {
   "cell_type": "markdown",
   "id": "ef4fe58e",
   "metadata": {},
   "source": [
    "What I will do next is to define appropriate feature transformers."
   ]
  },
  {
   "cell_type": "code",
   "execution_count": 42,
   "id": "f64446ff",
   "metadata": {},
   "outputs": [],
   "source": [
    "# Defining feature transformers\n",
    "numeric_transformer = make_pipeline(StandardScaler())\n",
    "\n",
    "binary_transformer = make_pipeline(\n",
    "    OneHotEncoder(drop=\"if_binary\"),\n",
    ")\n",
    "\n",
    "categorical_transformer = make_pipeline(\n",
    "    OneHotEncoder(handle_unknown=\"ignore\"),\n",
    ")\n",
    "\n",
    "# Defining the preprocessor (column transformer)\n",
    "preprocessor = make_column_transformer(\n",
    "    (numeric_transformer, numeric_features),\n",
    "    (binary_transformer, binary_features),\n",
    "    (categorical_transformer, categorical_features)\n",
    ")"
   ]
  },
  {
   "cell_type": "markdown",
   "id": "0fa2b29d",
   "metadata": {},
   "source": [
    "### 5- Modeling"
   ]
  },
  {
   "cell_type": "markdown",
   "id": "fda16161",
   "metadata": {},
   "source": [
    "My strategy for the modeling is to first build a Dummy model as a sanity check and then to use a Linear Regression model (here `Ridge()`) as a starting point. I want to avoid vanilla `LinearRegression()` as it is less flexible compared to `Ridge()` and you would end up with huge coefficients in case there are any remaining collinear features in the data set. `Ridge()` also has the alpha hyperparameter which alows tuning of the model.\n",
    "\n",
    "I will also consider `Gradient Boosting Model` (`GBM`) to compare with `Ridge`."
   ]
  },
  {
   "cell_type": "markdown",
   "id": "29556b20",
   "metadata": {},
   "source": [
    "#### DummyRegressor"
   ]
  },
  {
   "cell_type": "code",
   "execution_count": 43,
   "id": "ca7c72f9",
   "metadata": {},
   "outputs": [
    {
     "data": {
      "text/html": [
       "<div>\n",
       "<style scoped>\n",
       "    .dataframe tbody tr th:only-of-type {\n",
       "        vertical-align: middle;\n",
       "    }\n",
       "\n",
       "    .dataframe tbody tr th {\n",
       "        vertical-align: top;\n",
       "    }\n",
       "\n",
       "    .dataframe thead th {\n",
       "        text-align: right;\n",
       "    }\n",
       "</style>\n",
       "<table border=\"1\" class=\"dataframe\">\n",
       "  <thead>\n",
       "    <tr style=\"text-align: right;\">\n",
       "      <th></th>\n",
       "      <th>fit_time</th>\n",
       "      <th>score_time</th>\n",
       "      <th>test_score</th>\n",
       "      <th>train_score</th>\n",
       "    </tr>\n",
       "  </thead>\n",
       "  <tbody>\n",
       "    <tr>\n",
       "      <th>Dummy</th>\n",
       "      <td>0.068003</td>\n",
       "      <td>0.012399</td>\n",
       "      <td>-0.000368</td>\n",
       "      <td>0.0</td>\n",
       "    </tr>\n",
       "  </tbody>\n",
       "</table>\n",
       "</div>"
      ],
      "text/plain": [
       "       fit_time  score_time  test_score  train_score\n",
       "Dummy  0.068003    0.012399   -0.000368          0.0"
      ]
     },
     "execution_count": 43,
     "metadata": {},
     "output_type": "execute_result"
    }
   ],
   "source": [
    "# Modeling with DummyRegressor() \n",
    "dummy_pipe = Pipeline(\n",
    "        steps=[\n",
    "            (\"prepro\", preprocessor),\n",
    "            (\"Ridge\", DummyRegressor())\n",
    "        ]\n",
    "    )\n",
    "\n",
    "scores = cross_validate(\n",
    "    dummy_pipe,\n",
    "    X_train,\n",
    "    y_train,\n",
    "    scoring='r2',\n",
    "    return_train_score=True)\n",
    "\n",
    "results_df = {} # A dictionary to store the results\n",
    "df_dummy = pd.DataFrame(scores)\n",
    "results_df[\"Dummy\"] = df_dummy.mean()\n",
    "pd.DataFrame(results_df).T"
   ]
  },
  {
   "cell_type": "markdown",
   "id": "96c68a17",
   "metadata": {},
   "source": [
    "Sanity check, **checked**. Typical of `DummyRegressor`."
   ]
  },
  {
   "cell_type": "markdown",
   "id": "8f6520be",
   "metadata": {},
   "source": [
    "**Note:** `test_score` here is actually `validation_score`."
   ]
  },
  {
   "cell_type": "markdown",
   "id": "304a70bb",
   "metadata": {},
   "source": [
    "#### Ridge"
   ]
  },
  {
   "cell_type": "code",
   "execution_count": 44,
   "id": "0d69ca50",
   "metadata": {},
   "outputs": [
    {
     "data": {
      "text/html": [
       "<div>\n",
       "<style scoped>\n",
       "    .dataframe tbody tr th:only-of-type {\n",
       "        vertical-align: middle;\n",
       "    }\n",
       "\n",
       "    .dataframe tbody tr th {\n",
       "        vertical-align: top;\n",
       "    }\n",
       "\n",
       "    .dataframe thead th {\n",
       "        text-align: right;\n",
       "    }\n",
       "</style>\n",
       "<table border=\"1\" class=\"dataframe\">\n",
       "  <thead>\n",
       "    <tr style=\"text-align: right;\">\n",
       "      <th></th>\n",
       "      <th>fit_time</th>\n",
       "      <th>score_time</th>\n",
       "      <th>test_score</th>\n",
       "      <th>train_score</th>\n",
       "    </tr>\n",
       "  </thead>\n",
       "  <tbody>\n",
       "    <tr>\n",
       "      <th>Dummy</th>\n",
       "      <td>0.068003</td>\n",
       "      <td>0.012399</td>\n",
       "      <td>-0.000368</td>\n",
       "      <td>0.000000</td>\n",
       "    </tr>\n",
       "    <tr>\n",
       "      <th>Ridge</th>\n",
       "      <td>1.414874</td>\n",
       "      <td>0.013206</td>\n",
       "      <td>0.977672</td>\n",
       "      <td>0.980592</td>\n",
       "    </tr>\n",
       "  </tbody>\n",
       "</table>\n",
       "</div>"
      ],
      "text/plain": [
       "       fit_time  score_time  test_score  train_score\n",
       "Dummy  0.068003    0.012399   -0.000368     0.000000\n",
       "Ridge  1.414874    0.013206    0.977672     0.980592"
      ]
     },
     "execution_count": 44,
     "metadata": {},
     "output_type": "execute_result"
    }
   ],
   "source": [
    "# Modeling with Ridge() with hyperparameter optimization\n",
    "ridge_pipe = Pipeline(\n",
    "        steps=[\n",
    "            (\"prepro\", preprocessor),\n",
    "            (\"Ridge\", Ridge())\n",
    "        ]\n",
    "    )\n",
    "param_grid_ridge = {\n",
    "        'Ridge__alpha': 10.0**np.arange(-5,5,1) # Range of alpha for hyperparameter optimization\n",
    "    }\n",
    "hyper_parameters_search_ridge = GridSearchCV(ridge_pipe, param_grid=param_grid_ridge, n_jobs=-1, scoring='r2')\n",
    "hyper_parameters_search_ridge.fit(X_train, y_train)\n",
    "\n",
    "\n",
    "scores = cross_validate(\n",
    "    hyper_parameters_search_ridge.best_estimator_,\n",
    "    X_train,\n",
    "    y_train,\n",
    "    scoring='r2',\n",
    "    return_train_score=True)\n",
    "\n",
    "df_ridge = pd.DataFrame(scores)\n",
    "results_df[\"Ridge\"] = df_ridge.mean()\n",
    "pd.DataFrame(results_df).T"
   ]
  },
  {
   "cell_type": "markdown",
   "id": "0927f81a",
   "metadata": {},
   "source": [
    "The results sound great. Also, there is no sign of overfitting.\n",
    "\n",
    "Let's see what we get with `GBM`."
   ]
  },
  {
   "cell_type": "markdown",
   "id": "32a78780",
   "metadata": {},
   "source": [
    "#### GradientBoostingRegressor"
   ]
  },
  {
   "cell_type": "code",
   "execution_count": 45,
   "id": "4ddb1a72",
   "metadata": {},
   "outputs": [
    {
     "data": {
      "text/html": [
       "<div>\n",
       "<style scoped>\n",
       "    .dataframe tbody tr th:only-of-type {\n",
       "        vertical-align: middle;\n",
       "    }\n",
       "\n",
       "    .dataframe tbody tr th {\n",
       "        vertical-align: top;\n",
       "    }\n",
       "\n",
       "    .dataframe thead th {\n",
       "        text-align: right;\n",
       "    }\n",
       "</style>\n",
       "<table border=\"1\" class=\"dataframe\">\n",
       "  <thead>\n",
       "    <tr style=\"text-align: right;\">\n",
       "      <th></th>\n",
       "      <th>fit_time</th>\n",
       "      <th>score_time</th>\n",
       "      <th>test_score</th>\n",
       "      <th>train_score</th>\n",
       "    </tr>\n",
       "  </thead>\n",
       "  <tbody>\n",
       "    <tr>\n",
       "      <th>Dummy</th>\n",
       "      <td>0.068003</td>\n",
       "      <td>0.012399</td>\n",
       "      <td>-0.000368</td>\n",
       "      <td>0.000000</td>\n",
       "    </tr>\n",
       "    <tr>\n",
       "      <th>Ridge</th>\n",
       "      <td>1.414874</td>\n",
       "      <td>0.013206</td>\n",
       "      <td>0.977672</td>\n",
       "      <td>0.980592</td>\n",
       "    </tr>\n",
       "    <tr>\n",
       "      <th>Gradient Boosting</th>\n",
       "      <td>15.135172</td>\n",
       "      <td>0.019206</td>\n",
       "      <td>0.973396</td>\n",
       "      <td>0.994968</td>\n",
       "    </tr>\n",
       "  </tbody>\n",
       "</table>\n",
       "</div>"
      ],
      "text/plain": [
       "                    fit_time  score_time  test_score  train_score\n",
       "Dummy               0.068003    0.012399   -0.000368     0.000000\n",
       "Ridge               1.414874    0.013206    0.977672     0.980592\n",
       "Gradient Boosting  15.135172    0.019206    0.973396     0.994968"
      ]
     },
     "execution_count": 45,
     "metadata": {},
     "output_type": "execute_result"
    }
   ],
   "source": [
    "# Modeling with GradientBoostingRegressor() with hyperparameter optimization\n",
    "gb_pipe = Pipeline(\n",
    "        steps=[\n",
    "            (\"prepro\", preprocessor),\n",
    "            (\"GradientBoostingRegressor\", GradientBoostingRegressor(random_state=123))\n",
    "        ]\n",
    "    )\n",
    "\n",
    "param_grid_gb = {\"GradientBoostingRegressor__n_estimators\": [5, 10, 50, 100], # Range of n_estimators for hyperparameter optimization\n",
    "                     \"GradientBoostingRegressor__max_depth\": [3, 5, 7]}       # Range of max_depth for hyperparameter optimization\n",
    "\n",
    "hyper_parameters_search_gb = GridSearchCV(gb_pipe, param_grid=param_grid_gb, n_jobs=-1, scoring='r2')\n",
    "hyper_parameters_search_gb.fit(X_train, y_train)\n",
    "\n",
    "\n",
    "scores = cross_validate(\n",
    "    hyper_parameters_search_gb.best_estimator_,\n",
    "    X_train,\n",
    "    y_train,\n",
    "    scoring='r2',\n",
    "    return_train_score=True)\n",
    "\n",
    "df_gb = pd.DataFrame(scores)\n",
    "results_df[\"Gradient Boosting\"] = df_gb.mean()\n",
    "pd.DataFrame(results_df).T"
   ]
  },
  {
   "cell_type": "markdown",
   "id": "db004c37",
   "metadata": {},
   "source": [
    "The results from `GradientBoostingRegressor()` sound great as well. Again no major overfitting. "
   ]
  },
  {
   "cell_type": "markdown",
   "id": "0bba7663",
   "metadata": {},
   "source": [
    "Based on the results obtained, there is a close tie between `Ridge()` and `GradientBoostingRegressor()` and I can go with any of them. However, I will be using the `Ridge()` model to make predictions. Below is the test score on the test set."
   ]
  },
  {
   "cell_type": "code",
   "execution_count": 46,
   "id": "a6e7da7e",
   "metadata": {},
   "outputs": [
    {
     "name": "stdout",
     "output_type": "stream",
     "text": [
      "Test score:  0.979781\n"
     ]
    }
   ],
   "source": [
    "# Scoring the GBM on the test set\n",
    "hyper_parameters_search_ridge.best_estimator_.fit(X_train, y_train)\n",
    "print(\"Test score: \", round(hyper_parameters_search_ridge.best_estimator_.score(X_test, y_test), 6))"
   ]
  },
  {
   "cell_type": "markdown",
   "id": "9616d22f",
   "metadata": {},
   "source": [
    "**This result is awesome.**"
   ]
  },
  {
   "cell_type": "markdown",
   "id": "9be5a814",
   "metadata": {},
   "source": [
    "**Disclaimer:** There are several ways to improve the modeling such as looking into other regressors (+ hyperparameter optimization), building ensemble models, running feature selection, etc. which would require more time. However, I am already getting decent results with above models and there would be no need to spend more time on the modeling. "
   ]
  },
  {
   "cell_type": "markdown",
   "id": "2fa78789",
   "metadata": {},
   "source": [
    "### 6- Conclusions"
   ]
  },
  {
   "cell_type": "markdown",
   "id": "951f95d0",
   "metadata": {},
   "source": [
    "First conducted in 1978, the Residential Energy Consumption Survey (RECS) is a national sample survey that collects energy-related data for housing units occupied as a primary residence and the households that live in them.\n",
    "\n",
    "In its 2009 version, data were collected from **12,083** households selected at random using a complex multistage, area-probability sample design. The sample represents **113.6** million U.S. households, the Census Bureau’s statistical estimate for all occupied housing units in 2009 derived from their American Community Survey (ACS). More can be found [here](https://www.eia.gov/consumption/residential/data/2009/index.php?view=microdata)."
   ]
  },
  {
   "cell_type": "markdown",
   "id": "fb590acc",
   "metadata": {},
   "source": [
    "I have leveraged this data set to build a model that predicts electrical energy consumption in `KWH` (kilowatt-hour)."
   ]
  },
  {
   "cell_type": "markdown",
   "id": "82132774",
   "metadata": {},
   "source": [
    "The data set in its original format has **940** columns. Here is a view of the original data set."
   ]
  },
  {
   "cell_type": "code",
   "execution_count": 47,
   "id": "b61281e7",
   "metadata": {},
   "outputs": [
    {
     "data": {
      "text/html": [
       "<div>\n",
       "<style scoped>\n",
       "    .dataframe tbody tr th:only-of-type {\n",
       "        vertical-align: middle;\n",
       "    }\n",
       "\n",
       "    .dataframe tbody tr th {\n",
       "        vertical-align: top;\n",
       "    }\n",
       "\n",
       "    .dataframe thead th {\n",
       "        text-align: right;\n",
       "    }\n",
       "</style>\n",
       "<table border=\"1\" class=\"dataframe\">\n",
       "  <thead>\n",
       "    <tr style=\"text-align: right;\">\n",
       "      <th></th>\n",
       "      <th>DOEID</th>\n",
       "      <th>REGIONC</th>\n",
       "      <th>DIVISION</th>\n",
       "      <th>REPORTABLE_DOMAIN</th>\n",
       "      <th>TYPEHUQ</th>\n",
       "      <th>NWEIGHT</th>\n",
       "      <th>HDD65</th>\n",
       "      <th>CDD65</th>\n",
       "      <th>HDD30YR</th>\n",
       "      <th>CDD30YR</th>\n",
       "      <th>...</th>\n",
       "      <th>SCALEKER</th>\n",
       "      <th>IECC_Climate_Pub</th>\n",
       "      <th>HDD50</th>\n",
       "      <th>CDD80</th>\n",
       "      <th>GND_HDD65</th>\n",
       "      <th>WSF</th>\n",
       "      <th>OA_LAT</th>\n",
       "      <th>GWT</th>\n",
       "      <th>DesignDBT99</th>\n",
       "      <th>DesignDBT1</th>\n",
       "    </tr>\n",
       "  </thead>\n",
       "  <tbody>\n",
       "    <tr>\n",
       "      <th>0</th>\n",
       "      <td>1</td>\n",
       "      <td>2</td>\n",
       "      <td>4</td>\n",
       "      <td>12</td>\n",
       "      <td>2</td>\n",
       "      <td>2471.68</td>\n",
       "      <td>4742</td>\n",
       "      <td>1080</td>\n",
       "      <td>4953</td>\n",
       "      <td>1271</td>\n",
       "      <td>...</td>\n",
       "      <td>-2</td>\n",
       "      <td>4A</td>\n",
       "      <td>2117</td>\n",
       "      <td>56</td>\n",
       "      <td>4250</td>\n",
       "      <td>0.48</td>\n",
       "      <td>6</td>\n",
       "      <td>56</td>\n",
       "      <td>9</td>\n",
       "      <td>96</td>\n",
       "    </tr>\n",
       "    <tr>\n",
       "      <th>1</th>\n",
       "      <td>2</td>\n",
       "      <td>4</td>\n",
       "      <td>10</td>\n",
       "      <td>26</td>\n",
       "      <td>2</td>\n",
       "      <td>8599.17</td>\n",
       "      <td>2662</td>\n",
       "      <td>199</td>\n",
       "      <td>2688</td>\n",
       "      <td>143</td>\n",
       "      <td>...</td>\n",
       "      <td>-2</td>\n",
       "      <td>3C</td>\n",
       "      <td>62</td>\n",
       "      <td>26</td>\n",
       "      <td>2393</td>\n",
       "      <td>0.61</td>\n",
       "      <td>0</td>\n",
       "      <td>64</td>\n",
       "      <td>38</td>\n",
       "      <td>73</td>\n",
       "    </tr>\n",
       "    <tr>\n",
       "      <th>2</th>\n",
       "      <td>3</td>\n",
       "      <td>1</td>\n",
       "      <td>1</td>\n",
       "      <td>1</td>\n",
       "      <td>5</td>\n",
       "      <td>8969.92</td>\n",
       "      <td>6233</td>\n",
       "      <td>505</td>\n",
       "      <td>5741</td>\n",
       "      <td>829</td>\n",
       "      <td>...</td>\n",
       "      <td>-2</td>\n",
       "      <td>5A</td>\n",
       "      <td>2346</td>\n",
       "      <td>49</td>\n",
       "      <td>5654</td>\n",
       "      <td>0.48</td>\n",
       "      <td>3</td>\n",
       "      <td>52</td>\n",
       "      <td>12</td>\n",
       "      <td>88</td>\n",
       "    </tr>\n",
       "    <tr>\n",
       "      <th>3</th>\n",
       "      <td>4</td>\n",
       "      <td>2</td>\n",
       "      <td>3</td>\n",
       "      <td>7</td>\n",
       "      <td>2</td>\n",
       "      <td>18003.64</td>\n",
       "      <td>6034</td>\n",
       "      <td>672</td>\n",
       "      <td>5781</td>\n",
       "      <td>868</td>\n",
       "      <td>...</td>\n",
       "      <td>-2</td>\n",
       "      <td>5A</td>\n",
       "      <td>2746</td>\n",
       "      <td>0</td>\n",
       "      <td>4941</td>\n",
       "      <td>0.55</td>\n",
       "      <td>4</td>\n",
       "      <td>55</td>\n",
       "      <td>7</td>\n",
       "      <td>87</td>\n",
       "    </tr>\n",
       "    <tr>\n",
       "      <th>4</th>\n",
       "      <td>5</td>\n",
       "      <td>1</td>\n",
       "      <td>1</td>\n",
       "      <td>1</td>\n",
       "      <td>3</td>\n",
       "      <td>5999.61</td>\n",
       "      <td>5388</td>\n",
       "      <td>702</td>\n",
       "      <td>5313</td>\n",
       "      <td>797</td>\n",
       "      <td>...</td>\n",
       "      <td>-2</td>\n",
       "      <td>5A</td>\n",
       "      <td>2251</td>\n",
       "      <td>0</td>\n",
       "      <td>5426</td>\n",
       "      <td>0.61</td>\n",
       "      <td>4</td>\n",
       "      <td>50</td>\n",
       "      <td>13</td>\n",
       "      <td>90</td>\n",
       "    </tr>\n",
       "  </tbody>\n",
       "</table>\n",
       "<p>5 rows × 940 columns</p>\n",
       "</div>"
      ],
      "text/plain": [
       "   DOEID  REGIONC  DIVISION  REPORTABLE_DOMAIN  TYPEHUQ   NWEIGHT  HDD65  \\\n",
       "0      1        2         4                 12        2   2471.68   4742   \n",
       "1      2        4        10                 26        2   8599.17   2662   \n",
       "2      3        1         1                  1        5   8969.92   6233   \n",
       "3      4        2         3                  7        2  18003.64   6034   \n",
       "4      5        1         1                  1        3   5999.61   5388   \n",
       "\n",
       "   CDD65  HDD30YR  CDD30YR  ...  SCALEKER  IECC_Climate_Pub HDD50 CDD80  \\\n",
       "0   1080     4953     1271  ...        -2                4A  2117    56   \n",
       "1    199     2688      143  ...        -2                3C    62    26   \n",
       "2    505     5741      829  ...        -2                5A  2346    49   \n",
       "3    672     5781      868  ...        -2                5A  2746     0   \n",
       "4    702     5313      797  ...        -2                5A  2251     0   \n",
       "\n",
       "   GND_HDD65   WSF  OA_LAT  GWT  DesignDBT99  DesignDBT1  \n",
       "0       4250  0.48       6   56            9          96  \n",
       "1       2393  0.61       0   64           38          73  \n",
       "2       5654  0.48       3   52           12          88  \n",
       "3       4941  0.55       4   55            7          87  \n",
       "4       5426  0.61       4   50           13          90  \n",
       "\n",
       "[5 rows x 940 columns]"
      ]
     },
     "execution_count": 47,
     "metadata": {},
     "output_type": "execute_result"
    }
   ],
   "source": [
    "# Original data set after Feature Engineering\n",
    "original_df.head()"
   ]
  },
  {
   "cell_type": "markdown",
   "id": "0064b4d8",
   "metadata": {},
   "source": [
    "I dedicated a significant amount of time spent on this report on **\"Feature Engineering\"** and more specifically on removing redundant columns. Here is a view of the modified data set."
   ]
  },
  {
   "cell_type": "code",
   "execution_count": 48,
   "id": "c479b299",
   "metadata": {},
   "outputs": [
    {
     "data": {
      "text/html": [
       "<div>\n",
       "<style scoped>\n",
       "    .dataframe tbody tr th:only-of-type {\n",
       "        vertical-align: middle;\n",
       "    }\n",
       "\n",
       "    .dataframe tbody tr th {\n",
       "        vertical-align: top;\n",
       "    }\n",
       "\n",
       "    .dataframe thead th {\n",
       "        text-align: right;\n",
       "    }\n",
       "</style>\n",
       "<table border=\"1\" class=\"dataframe\">\n",
       "  <thead>\n",
       "    <tr style=\"text-align: right;\">\n",
       "      <th></th>\n",
       "      <th>REGIONC</th>\n",
       "      <th>NWEIGHT</th>\n",
       "      <th>CDD30YR</th>\n",
       "      <th>Climate_Region_Pub</th>\n",
       "      <th>UR</th>\n",
       "      <th>KOWNRENT</th>\n",
       "      <th>YEARMADERANGE</th>\n",
       "      <th>OCCUPYYRANGE</th>\n",
       "      <th>NUMFLRS</th>\n",
       "      <th>NUMAPTS</th>\n",
       "      <th>...</th>\n",
       "      <th>TOTALDOLRFG</th>\n",
       "      <th>PERIODEL</th>\n",
       "      <th>SCALENG</th>\n",
       "      <th>IECC_Climate_Pub</th>\n",
       "      <th>CDD80</th>\n",
       "      <th>GND_HDD65</th>\n",
       "      <th>WSF</th>\n",
       "      <th>OA_LAT</th>\n",
       "      <th>DesignDBT1</th>\n",
       "      <th>KWH</th>\n",
       "    </tr>\n",
       "  </thead>\n",
       "  <tbody>\n",
       "    <tr>\n",
       "      <th>0</th>\n",
       "      <td>2</td>\n",
       "      <td>2471.68</td>\n",
       "      <td>1271</td>\n",
       "      <td>4</td>\n",
       "      <td>U</td>\n",
       "      <td>1</td>\n",
       "      <td>7</td>\n",
       "      <td>8</td>\n",
       "      <td>-2</td>\n",
       "      <td>-2</td>\n",
       "      <td>...</td>\n",
       "      <td>108</td>\n",
       "      <td>1</td>\n",
       "      <td>-2</td>\n",
       "      <td>4A</td>\n",
       "      <td>56</td>\n",
       "      <td>4250</td>\n",
       "      <td>0.48</td>\n",
       "      <td>6</td>\n",
       "      <td>96</td>\n",
       "      <td>18466</td>\n",
       "    </tr>\n",
       "    <tr>\n",
       "      <th>1</th>\n",
       "      <td>4</td>\n",
       "      <td>8599.17</td>\n",
       "      <td>143</td>\n",
       "      <td>5</td>\n",
       "      <td>U</td>\n",
       "      <td>2</td>\n",
       "      <td>6</td>\n",
       "      <td>8</td>\n",
       "      <td>-2</td>\n",
       "      <td>-2</td>\n",
       "      <td>...</td>\n",
       "      <td>121</td>\n",
       "      <td>1</td>\n",
       "      <td>0</td>\n",
       "      <td>3C</td>\n",
       "      <td>26</td>\n",
       "      <td>2393</td>\n",
       "      <td>0.61</td>\n",
       "      <td>0</td>\n",
       "      <td>73</td>\n",
       "      <td>5148</td>\n",
       "    </tr>\n",
       "    <tr>\n",
       "      <th>2</th>\n",
       "      <td>1</td>\n",
       "      <td>8969.92</td>\n",
       "      <td>829</td>\n",
       "      <td>1</td>\n",
       "      <td>U</td>\n",
       "      <td>2</td>\n",
       "      <td>3</td>\n",
       "      <td>7</td>\n",
       "      <td>2</td>\n",
       "      <td>8</td>\n",
       "      <td>...</td>\n",
       "      <td>243</td>\n",
       "      <td>1</td>\n",
       "      <td>3</td>\n",
       "      <td>5A</td>\n",
       "      <td>49</td>\n",
       "      <td>5654</td>\n",
       "      <td>0.48</td>\n",
       "      <td>3</td>\n",
       "      <td>88</td>\n",
       "      <td>2218</td>\n",
       "    </tr>\n",
       "    <tr>\n",
       "      <th>3</th>\n",
       "      <td>2</td>\n",
       "      <td>18003.64</td>\n",
       "      <td>868</td>\n",
       "      <td>1</td>\n",
       "      <td>U</td>\n",
       "      <td>1</td>\n",
       "      <td>5</td>\n",
       "      <td>5</td>\n",
       "      <td>-2</td>\n",
       "      <td>-2</td>\n",
       "      <td>...</td>\n",
       "      <td>159</td>\n",
       "      <td>5</td>\n",
       "      <td>3</td>\n",
       "      <td>5A</td>\n",
       "      <td>0</td>\n",
       "      <td>4941</td>\n",
       "      <td>0.55</td>\n",
       "      <td>4</td>\n",
       "      <td>87</td>\n",
       "      <td>10015</td>\n",
       "    </tr>\n",
       "    <tr>\n",
       "      <th>4</th>\n",
       "      <td>1</td>\n",
       "      <td>5999.61</td>\n",
       "      <td>797</td>\n",
       "      <td>1</td>\n",
       "      <td>U</td>\n",
       "      <td>1</td>\n",
       "      <td>5</td>\n",
       "      <td>5</td>\n",
       "      <td>-2</td>\n",
       "      <td>-2</td>\n",
       "      <td>...</td>\n",
       "      <td>85</td>\n",
       "      <td>1</td>\n",
       "      <td>0</td>\n",
       "      <td>5A</td>\n",
       "      <td>0</td>\n",
       "      <td>5426</td>\n",
       "      <td>0.61</td>\n",
       "      <td>4</td>\n",
       "      <td>90</td>\n",
       "      <td>2869</td>\n",
       "    </tr>\n",
       "  </tbody>\n",
       "</table>\n",
       "<p>5 rows × 223 columns</p>\n",
       "</div>"
      ],
      "text/plain": [
       "   REGIONC   NWEIGHT  CDD30YR  Climate_Region_Pub UR  KOWNRENT  YEARMADERANGE  \\\n",
       "0        2   2471.68     1271                   4  U         1              7   \n",
       "1        4   8599.17      143                   5  U         2              6   \n",
       "2        1   8969.92      829                   1  U         2              3   \n",
       "3        2  18003.64      868                   1  U         1              5   \n",
       "4        1   5999.61      797                   1  U         1              5   \n",
       "\n",
       "   OCCUPYYRANGE  NUMFLRS  NUMAPTS  ...  TOTALDOLRFG  PERIODEL  SCALENG  \\\n",
       "0             8       -2       -2  ...          108         1       -2   \n",
       "1             8       -2       -2  ...          121         1        0   \n",
       "2             7        2        8  ...          243         1        3   \n",
       "3             5       -2       -2  ...          159         5        3   \n",
       "4             5       -2       -2  ...           85         1        0   \n",
       "\n",
       "   IECC_Climate_Pub  CDD80  GND_HDD65   WSF  OA_LAT  DesignDBT1    KWH  \n",
       "0                4A     56       4250  0.48       6          96  18466  \n",
       "1                3C     26       2393  0.61       0          73   5148  \n",
       "2                5A     49       5654  0.48       3          88   2218  \n",
       "3                5A      0       4941  0.55       4          87  10015  \n",
       "4                5A      0       5426  0.61       4          90   2869  \n",
       "\n",
       "[5 rows x 223 columns]"
      ]
     },
     "execution_count": 48,
     "metadata": {},
     "output_type": "execute_result"
    }
   ],
   "source": [
    "# Modified data set after Feature Engineering\n",
    "df.head()"
   ]
  },
  {
   "cell_type": "markdown",
   "id": "4eeaed83",
   "metadata": {},
   "source": [
    "For the modeling, I mainly made use of Linear `Ridge()` and `GradientBoostingRegressor()` to make models which enjoyed built-in hyperparameter optimization.\n",
    "\n",
    "The results (**R2 scores** as the metric in this analysis) from both models were awesome. Below is the summary of models scores."
   ]
  },
  {
   "cell_type": "code",
   "execution_count": 49,
   "id": "d36c749a",
   "metadata": {},
   "outputs": [
    {
     "data": {
      "text/html": [
       "<div>\n",
       "<style scoped>\n",
       "    .dataframe tbody tr th:only-of-type {\n",
       "        vertical-align: middle;\n",
       "    }\n",
       "\n",
       "    .dataframe tbody tr th {\n",
       "        vertical-align: top;\n",
       "    }\n",
       "\n",
       "    .dataframe thead th {\n",
       "        text-align: right;\n",
       "    }\n",
       "</style>\n",
       "<table border=\"1\" class=\"dataframe\">\n",
       "  <thead>\n",
       "    <tr style=\"text-align: right;\">\n",
       "      <th></th>\n",
       "      <th>fit_time</th>\n",
       "      <th>score_time</th>\n",
       "      <th>test_score</th>\n",
       "      <th>train_score</th>\n",
       "    </tr>\n",
       "  </thead>\n",
       "  <tbody>\n",
       "    <tr>\n",
       "      <th>Dummy</th>\n",
       "      <td>0.068003</td>\n",
       "      <td>0.012399</td>\n",
       "      <td>-0.000368</td>\n",
       "      <td>0.000000</td>\n",
       "    </tr>\n",
       "    <tr>\n",
       "      <th>Ridge</th>\n",
       "      <td>1.414874</td>\n",
       "      <td>0.013206</td>\n",
       "      <td>0.977672</td>\n",
       "      <td>0.980592</td>\n",
       "    </tr>\n",
       "    <tr>\n",
       "      <th>Gradient Boosting</th>\n",
       "      <td>15.135172</td>\n",
       "      <td>0.019206</td>\n",
       "      <td>0.973396</td>\n",
       "      <td>0.994968</td>\n",
       "    </tr>\n",
       "  </tbody>\n",
       "</table>\n",
       "</div>"
      ],
      "text/plain": [
       "                    fit_time  score_time  test_score  train_score\n",
       "Dummy               0.068003    0.012399   -0.000368     0.000000\n",
       "Ridge               1.414874    0.013206    0.977672     0.980592\n",
       "Gradient Boosting  15.135172    0.019206    0.973396     0.994968"
      ]
     },
     "execution_count": 49,
     "metadata": {},
     "output_type": "execute_result"
    }
   ],
   "source": [
    "pd.DataFrame(results_df).T"
   ]
  },
  {
   "cell_type": "markdown",
   "id": "273d54d7",
   "metadata": {},
   "source": [
    "So I picked `Ridge()` to make predictions on the test set which also had decent test scores. Below is the test score on the test set."
   ]
  },
  {
   "cell_type": "code",
   "execution_count": 50,
   "id": "b341ec35",
   "metadata": {},
   "outputs": [
    {
     "data": {
      "text/plain": [
       "0.979781"
      ]
     },
     "execution_count": 50,
     "metadata": {},
     "output_type": "execute_result"
    }
   ],
   "source": [
    "round(hyper_parameters_search_ridge.best_estimator_.score(X_test, y_test), 6)"
   ]
  },
  {
   "cell_type": "markdown",
   "id": "30731785",
   "metadata": {},
   "source": [
    "##### This model is ready for the wild."
   ]
  },
  {
   "cell_type": "markdown",
   "id": "4454c9dd",
   "metadata": {},
   "source": [
    "-------------------------------------------------------------"
   ]
  },
  {
   "cell_type": "markdown",
   "id": "c76cfecf",
   "metadata": {},
   "source": [
    "#### This is the end of the script."
   ]
  }
 ],
 "metadata": {
  "kernelspec": {
   "display_name": "Python [conda env:571]",
   "language": "python",
   "name": "conda-env-571-py"
  },
  "language_info": {
   "codemirror_mode": {
    "name": "ipython",
    "version": 3
   },
   "file_extension": ".py",
   "mimetype": "text/x-python",
   "name": "python",
   "nbconvert_exporter": "python",
   "pygments_lexer": "ipython3",
   "version": "3.8.6"
  }
 },
 "nbformat": 4,
 "nbformat_minor": 5
}
